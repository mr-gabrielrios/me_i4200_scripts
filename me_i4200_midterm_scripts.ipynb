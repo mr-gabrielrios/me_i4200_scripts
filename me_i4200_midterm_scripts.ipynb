{
 "cells": [
  {
   "cell_type": "code",
   "execution_count": 418,
   "metadata": {},
   "outputs": [],
   "source": [
    "import math as m\n",
    "import numpy as np\n",
    "import sys\n",
    "import sympy as sym"
   ]
  },
  {
   "cell_type": "markdown",
   "metadata": {},
   "source": [
    "# General Calculations"
   ]
  },
  {
   "cell_type": "code",
   "execution_count": 467,
   "metadata": {},
   "outputs": [],
   "source": [
    "# Get shear modulus from elastic modulus\n",
    "def shear_mod(E, v):\n",
    "    return E/(2*(1+v))"
   ]
  },
  {
   "cell_type": "code",
   "execution_count": 466,
   "metadata": {},
   "outputs": [],
   "source": [
    "# Get elastic modulus from shear modulus\n",
    "def elastic_mod(E, v):\n",
    "    return G*(2*(1+v))"
   ]
  },
  {
   "cell_type": "markdown",
   "metadata": {},
   "source": [
    "### 2D Eqns 1.18a, b, c - Transformation Equations for Plane Stress"
   ]
  },
  {
   "cell_type": "code",
   "execution_count": 15,
   "metadata": {},
   "outputs": [],
   "source": [
    "def plane_stress_trans(sigma_x, sigma_y, tau_xy, theta):\n",
    "    sigma_x_new = 0.5*(sigma_x + sigma_y) + 0.5*(sigma_x - sigma_y)*m.cos(2*theta*m.pi/180) + tau_xy*m.sin(2*theta*m.pi/180)\n",
    "    sigma_y_new = 0.5*(sigma_x + sigma_y) - 0.5*(sigma_x - sigma_y)*m.cos(2*theta*m.pi/180) - tau_xy*m.sin(2*theta*m.pi/180)\n",
    "    tau_xy_prime = -0.5*(sigma_x - sigma_y)*m.sin(2*theta*m.pi/180) + tau_xy*m.cos(2*theta*m.pi/180)\n",
    "    return sigma_x_new, sigma_y_new, tau_xy_prime"
   ]
  },
  {
   "cell_type": "markdown",
   "metadata": {},
   "source": [
    "Enter values (in MPa, degrees)"
   ]
  },
  {
   "cell_type": "code",
   "execution_count": 18,
   "metadata": {},
   "outputs": [
    {
     "name": "stdout",
     "output_type": "stream",
     "text": [
      "sigma_x_prime = 73.80 MPa\n",
      "sigma_y_prime = 61.20 MPa\n",
      "tau_xy_prime = 21.60 MPa\n"
     ]
    }
   ],
   "source": [
    "sigma_x = 45\n",
    "sigma_y = 90\n",
    "tau_xy = 0\n",
    "theta = 53.13\n",
    "sigma_x_new, sigma_y_new, tau_xy_prime = plane_stress_trans(sigma_x, sigma_y, tau_xy, theta)\n",
    "print('sigma_x_prime = %.2f MPa' % sigma_x_new)\n",
    "print('sigma_y_prime = %.2f MPa' % sigma_y_new)\n",
    "print('tau_xy_prime = %.2f MPa' % tau_xy_prime)"
   ]
  },
  {
   "cell_type": "markdown",
   "metadata": {},
   "source": [
    "### Mohr's circle calculator"
   ]
  },
  {
   "cell_type": "markdown",
   "metadata": {},
   "source": [
    "https://www.engineeringcalculator.net/mohrs_circle.html"
   ]
  },
  {
   "cell_type": "markdown",
   "metadata": {},
   "source": [
    "### 2D Principal stresses"
   ]
  },
  {
   "cell_type": "code",
   "execution_count": 46,
   "metadata": {},
   "outputs": [],
   "source": [
    "def principal_stress(sigma_x, sigma_y, tau_xy):\n",
    "    sigma_max = (sigma_x+sigma_y)/2 + m.sqrt(((sigma_x-sigma_y)/2)**2 + tau_xy**2)\n",
    "    sigma_min = (sigma_x+sigma_y)/2 - m.sqrt(((sigma_x-sigma_y)/2)**2 + tau_xy**2)\n",
    "    return sigma_max, sigma_min"
   ]
  },
  {
   "cell_type": "code",
   "execution_count": 480,
   "metadata": {},
   "outputs": [
    {
     "name": "stdout",
     "output_type": "stream",
     "text": [
      "sigma_max = 120.00 MPa\n",
      "sigma_min = 20.00 MPa\n"
     ]
    }
   ],
   "source": [
    "sigma_x = 100\n",
    "sigma_y = 40\n",
    "tau_xy = 40\n",
    "sigma_max, sigma_min = principal_stress(sigma_x, sigma_y, tau_xy)\n",
    "print('sigma_max = %.2f MPa' % sigma_max)\n",
    "print('sigma_min = %.2f MPa' % sigma_min)"
   ]
  },
  {
   "cell_type": "markdown",
   "metadata": {},
   "source": [
    "### 2D Max shearing stress"
   ]
  },
  {
   "cell_type": "code",
   "execution_count": 484,
   "metadata": {},
   "outputs": [],
   "source": [
    "def max_shear_stress(sigma_x, sigma_y, tau_xy):\n",
    "    tau_max_1 = m.sqrt(((sigma_x-sigma_y)/2)**2 + tau_xy**2)\n",
    "    tau_max_2 = -m.sqrt(((sigma_x-sigma_y)/2)**2 + tau_xy**2)\n",
    "    return tau_max_1, tau_max_2"
   ]
  },
  {
   "cell_type": "code",
   "execution_count": 485,
   "metadata": {},
   "outputs": [
    {
     "name": "stdout",
     "output_type": "stream",
     "text": [
      "tau_max = -50.00 MPa\n"
     ]
    }
   ],
   "source": [
    "sigma_x = 100\n",
    "sigma_y = 40\n",
    "tau_xy = 40\n",
    "tau_1, tau_2 = max_shear_stress(sigma_x, sigma_y, tau_xy)\n",
    "print('tau_max = %.2f MPa' % tau_2)"
   ]
  },
  {
   "cell_type": "markdown",
   "metadata": {},
   "source": [
    "### 2D Normal stress acting on planes of max shearing stress \n",
    "Reference Eqn. 1.23"
   ]
  },
  {
   "cell_type": "code",
   "execution_count": 21,
   "metadata": {},
   "outputs": [],
   "source": [
    "def sigma_prime(sigma_x, sigma_y):\n",
    "    sigma_prime = 0.5*(sigma_x + sigma_y)\n",
    "    return sigma_prime"
   ]
  },
  {
   "cell_type": "markdown",
   "metadata": {},
   "source": [
    "Enter values (in MPa)"
   ]
  },
  {
   "cell_type": "code",
   "execution_count": 69,
   "metadata": {},
   "outputs": [
    {
     "name": "stdout",
     "output_type": "stream",
     "text": [
      "Normal stress on max shearing plane: 87.00 MPa\n"
     ]
    }
   ],
   "source": [
    "sigma_x = 186\n",
    "sigma_y = -12\n",
    "print('Normal stress on max shearing plane: %.2f MPa' % sigma_prime(sigma_x, sigma_y))"
   ]
  },
  {
   "cell_type": "markdown",
   "metadata": {},
   "source": [
    "### 2D Principal and shear plane directions (angle of rotation for normal stresses/principal stresses)"
   ]
  },
  {
   "cell_type": "code",
   "execution_count": 62,
   "metadata": {},
   "outputs": [],
   "source": [
    "def theta_ps(sigma_x, sigma_y, tau_xy):\n",
    "    theta_p = (180/m.pi)*m.atan((2*tau_xy/(sigma_x-sigma_y)))/2\n",
    "    theta_s = (180/m.pi)*m.atan((-(sigma_x-sigma_y)/(2*tau_xy)))/2\n",
    "    theta_s = m.atan(-(sigma_x-sigma_y)/(2*tau_xy))/2\n",
    "    return theta_p, theta_s"
   ]
  },
  {
   "cell_type": "code",
   "execution_count": 482,
   "metadata": {},
   "outputs": [
    {
     "name": "stdout",
     "output_type": "stream",
     "text": [
      "theta_p: 26.57 deg\n",
      "theta_s: -18.43 deg\n"
     ]
    }
   ],
   "source": [
    "sigma_x = 100\n",
    "sigma_y = 40\n",
    "tau_xy = 40\n",
    "theta_p, theta_s = theta_ps(sigma_x, sigma_y, tau_xy)\n",
    "print('theta_p: %.2f deg' % theta_p)\n",
    "print('theta_s: %.2f deg' % theta_s)"
   ]
  },
  {
   "cell_type": "markdown",
   "metadata": {},
   "source": [
    "# 3D Calculations"
   ]
  },
  {
   "cell_type": "markdown",
   "metadata": {},
   "source": [
    "### 3D Principal Stresses (x, y, z coordinate system only)"
   ]
  },
  {
   "cell_type": "code",
   "execution_count": 504,
   "metadata": {
    "scrolled": true
   },
   "outputs": [
    {
     "name": "stdout",
     "output_type": "stream",
     "text": [
      "Invariants:  40 -2700 -61999.999999999935\n",
      "Principal stresses:  [66.56854249492379, 19.999999999999982, -46.568542494923804]\n",
      "Direction:  [0.9238795325112866, 0.38268343236509, 0.0]\n",
      "Octahedral normal stress: 13.33 MPa\n",
      "Octahedral shear stress: 46.43 MPa\n",
      "Abs max shearing stress: 56.57 MPa\n"
     ]
    }
   ],
   "source": [
    "sigma_x = 50\n",
    "tau_xy = 40\n",
    "tau_xz = 0\n",
    "sigma_y = -30\n",
    "tau_yz = 0\n",
    "sigma_z = 20\n",
    "\n",
    "# Calculate principal stresses\n",
    "stress_matrix = np.array([[sigma_x, tau_xy, tau_xz],\n",
    "                         [tau_xy, sigma_y, tau_yz],\n",
    "                         [tau_xz, tau_yz, sigma_z]])\n",
    "i1 = sigma_x + sigma_y + sigma_z\n",
    "i2 = sigma_x*sigma_y + sigma_y*sigma_z + sigma_x*sigma_z - tau_xy**2 - tau_yz**2 - tau_xz**2\n",
    "i3 = np.linalg.det(stress_matrix)\n",
    "sigma_p = sorted(np.roots([1, -i1, i2, -i3]), reverse=True)\n",
    "\n",
    "# Calculate directional cosines (l, m, n)\n",
    "a = np.linalg.det(\n",
    "    np.array([[sigma_y-sigma_p[0], tau_yz],\n",
    "              [tau_yz, sigma_z-sigma_p[0]]]))\n",
    "b = -np.linalg.det(\n",
    "    np.array([[tau_xy, tau_yz],\n",
    "              [tau_xz, sigma_z-sigma_p[0]]]))\n",
    "c = np.linalg.det(\n",
    "    np.array([[tau_xy, sigma_y-sigma_p[0]],\n",
    "              [tau_xz, tau_yz]]))\n",
    "k = 1/m.sqrt(a**2 + b**2 + c**2)\n",
    "l1 = a*k\n",
    "m1 = b*k\n",
    "n1 = c*k\n",
    "dir_cos = [l1, m1, n1]\n",
    "\n",
    "sigma_oct = sum(sigma_p)/3\n",
    "tau_oct = m.sqrt((sigma_p[0]-sigma_p[1])**2 + (sigma_p[1]-sigma_p[2])**2 + (sigma_p[2]-sigma_p[0])**2)/3\n",
    "tau_max = (sigma_p[0]-sigma_p[2])/2\n",
    "\n",
    "# print('Prime CSYS stresses: ', prime_stress_matrix)\n",
    "print('Invariants: ', i1, i2, i3)\n",
    "print('Principal stresses: ', sigma_p)\n",
    "print('Direction: ', dir_cos)\n",
    "print('Octahedral normal stress: %.2f MPa' % sigma_oct)\n",
    "print('Octahedral shear stress: %.2f MPa' % tau_oct)\n",
    "print('Abs max shearing stress: %.2f MPa' % tau_max)"
   ]
  },
  {
   "cell_type": "markdown",
   "metadata": {},
   "source": [
    "### 3D Principal Stresses with CSYS Rotation"
   ]
  },
  {
   "cell_type": "code",
   "execution_count": 503,
   "metadata": {
    "scrolled": true
   },
   "outputs": [
    {
     "name": "stdout",
     "output_type": "stream",
     "text": [
      "129.0994448735807\n",
      "[[2.00000000e+02 0.00000000e+00 0.00000000e+00]\n",
      " [0.00000000e+00 1.42108547e-14 0.00000000e+00]\n",
      " [0.00000000e+00 0.00000000e+00 1.00000000e+02]]\n",
      "Sigma_oct:  100.00000000000007\n",
      "[200.00000000000023, 100.0, 1.4210854715201982e-14]\n",
      "Abs max shearing stress: 100.00 MPa\n"
     ]
    }
   ],
   "source": [
    "dir_cos_matrix = angle2dcm(45, 0, 0)\n",
    "[l1, m1, n1], [l2, m2, n2], [l3, m3, n3] = dir_cos_matrix\n",
    "# Override for oblique planes\n",
    "\n",
    "sigma_x = 100\n",
    "tau_xy = 100\n",
    "tau_xz = 0\n",
    "sigma_y = 100\n",
    "tau_yz = 0\n",
    "sigma_z = 100\n",
    "\n",
    "sigma_x_p = sigma_x*(l1**2) + sigma_y*(m1**2) + sigma_z*(n1**2) + 2*(tau_xy*l1*m1 + tau_yz*m1*n1 + tau_xz*l1*n1)\n",
    "sigma_y_p = sigma_x*(l2**2) + sigma_y*(m2**2) + sigma_z*(n2**2) + 2*(tau_xy*l2*m2 + tau_yz*m2*n2 + tau_xz*l2*n2)\n",
    "sigma_z_p = sigma_x*(l3**2) + sigma_y*(m3**2) + sigma_z*(n3**2) + 2*(tau_xy*l3*m3 + tau_yz*m3*n3 + tau_xz*l3*n3)\n",
    "tau_xy_p = sigma_x*l1*l2 + sigma_y*m1*m2 + sigma_z*n1*n2 + tau_xy*(l1*m2+m1*l2) + tau_yz*(m1*n2+n1*m2) + tau_xz*(n1*l2+l1*n2)\n",
    "tau_xz_p = sigma_x*l1*l3 + sigma_y*m1*m3 + sigma_z*n1*n3 + tau_xy*(l1*m3+m1*l3) + tau_yz*(m1*n3+n1*m3) + tau_xz*(n1*l3+l1*n3)\n",
    "tau_yz_p = sigma_x*l2*l3 + sigma_y*m2*m3 + sigma_z*n2*n3 + tau_xy*(l2*m3+m2*l3) + tau_yz*(m2*n3+n2*m3) + tau_xz*(n2*l3+l2*n3)\n",
    "\n",
    "stress_matrix_p = np.array([[sigma_x_p, tau_xy_p, tau_xz_p],\n",
    "                         [tau_xy_p, sigma_y_p, tau_yz_p],\n",
    "                         [tau_xz_p, tau_yz_p, sigma_z_p]])\n",
    "\n",
    "i1 = sigma_x_p + sigma_y_p + sigma_z_p\n",
    "i2 = sigma_x_p*sigma_y_p + sigma_y_p*sigma_z_p + sigma_x_p*sigma_z_p - tau_xy_p**2 - tau_yz_p**2 - tau_xz_p**2\n",
    "i3 = np.linalg.det(stress_matrix_p)\n",
    "sigma_p = sorted(np.roots([1, -i1, i2, -i3]), reverse=True)\n",
    "\n",
    "sigma_oct = sum(sigma_p)/3\n",
    "tau_oct = m.sqrt((sigma_p[0]-sigma_p[1])**2 + (sigma_p[1]-sigma_p[2])**2 + (sigma_p[2]-sigma_p[0])**2)/3\n",
    "tau_max = (sigma_p[0]-sigma_p[2])/2\n",
    "\n",
    "p = []\n",
    "for i in sigma_p:\n",
    "    p.append(i/m.sqrt(3))\n",
    "    \n",
    "print(np.linalg.norm(p))\n",
    "\n",
    "# print(dir_cos_matrix)\n",
    "\n",
    "print(stress_matrix_p)\n",
    "print('Sigma_oct: ', sigma_oct)\n",
    "print(sigma_p)\n",
    "print('Abs max shearing stress: %.2f MPa' % tau_max)"
   ]
  },
  {
   "cell_type": "code",
   "execution_count": 490,
   "metadata": {},
   "outputs": [
    {
     "data": {
      "text/plain": [
       "76.92307692307692"
      ]
     },
     "execution_count": 490,
     "metadata": {},
     "output_type": "execute_result"
    }
   ],
   "source": [
    "shear_mod(200e9, 0.3)*1e-9"
   ]
  },
  {
   "cell_type": "markdown",
   "metadata": {},
   "source": [
    "### Normal and Shear Stresses on an Oblique Plane"
   ]
  },
  {
   "cell_type": "code",
   "execution_count": 350,
   "metadata": {},
   "outputs": [
    {
     "name": "stdout",
     "output_type": "stream",
     "text": [
      "[[ 0.60000143 -0.79999893  0.        ]\n",
      " [ 0.44387495  0.33290745  0.83195412]\n",
      " [-0.66556241 -0.49917366  0.55484443]]\n",
      "[[ 36.00002858 -48.80614983 -42.16575954]\n",
      " [-48.80614983  96.33083039 -66.45313752]\n",
      " [-42.16575954 -66.45313752  47.66914102]]\n",
      "180.00000000000003 1200.0000000000014 -552000.0000000007\n",
      "Normal stress:  36.00002858295324\n",
      "Abs max shearing stress: 96.28 MPa\n"
     ]
    }
   ],
   "source": [
    "dir_cos_matrix = angle2dcm(-53.13, 0, 56.3)\n",
    "[l1, m1, n1], [l2, m2, n2], [l3, m3, n3] = dir_cos_matrix\n",
    "# Override for oblique planes\n",
    "\n",
    "sigma_x = 100\n",
    "tau_xy = 40\n",
    "tau_xz = 0\n",
    "sigma_y = 60\n",
    "tau_yz = 80\n",
    "sigma_z = 20\n",
    "\n",
    "sigma_x_p = sigma_x*(l1**2) + sigma_y*(m1**2) + sigma_z*(n1**2) + 2*(tau_xy*l1*m1 + tau_yz*m1*n1 + tau_xz*l1*n1)\n",
    "sigma_y_p = sigma_x*(l2**2) + sigma_y*(m2**2) + sigma_z*(n2**2) + 2*(tau_xy*l2*m2 + tau_yz*m2*n2 + tau_xz*l2*n2)\n",
    "sigma_z_p = sigma_x*(l3**2) + sigma_y*(m3**2) + sigma_z*(n3**2) + 2*(tau_xy*l3*m3 + tau_yz*m3*n3 + tau_xz*l3*n3)\n",
    "tau_xy_p = sigma_x*l1*l2 + sigma_y*m1*m2 + sigma_z*n1*n2 + tau_xy*(l1*m2+m1*l2) + tau_yz*(m1*n2+n1*m2) + tau_xz*(n1*l2+l1*n2)\n",
    "tau_xz_p = sigma_x*l1*l3 + sigma_y*m1*m3 + sigma_z*n1*n3 + tau_xy*(l1*m3+m1*l3) + tau_yz*(m1*n3+n1*m3) + tau_xz*(n1*l3+l1*n3)\n",
    "tau_yz_p = sigma_x*l2*l3 + sigma_y*m2*m3 + sigma_z*n2*n3 + tau_xy*(l2*m3+m2*l3) + tau_yz*(m2*n3+n2*m3) + tau_xz*(n2*l3+l2*n3)\n",
    "\n",
    "stress_matrix_p = np.array([[sigma_x_p, tau_xy_p, tau_xz_p],\n",
    "                         [tau_xy_p, sigma_y_p, tau_yz_p],\n",
    "                         [tau_xz_p, tau_yz_p, sigma_z_p]])\n",
    "\n",
    "i1 = sigma_x_p + sigma_y_p + sigma_z_p\n",
    "i2 = sigma_x_p*sigma_y_p + sigma_y_p*sigma_z_p + sigma_x_p*sigma_z_p - tau_xy_p**2 - tau_yz_p**2 - tau_xz_p**2\n",
    "i3 = np.linalg.det(stress_matrix_p)\n",
    "sigma_p = sorted(np.roots([1, -i1, i2, -i3]), reverse=True)\n",
    "\n",
    "sigma_oct = sum(sigma_p)/3\n",
    "tau_oct = m.sqrt((sigma_p[0]-sigma_p[1])**2 + (sigma_p[1]-sigma_p[2])**2 + (sigma_p[2]-sigma_p[0])**2)/3\n",
    "tau_max = (sigma_p[0]-sigma_p[2])/2\n",
    "\n",
    "print(dir_cos_matrix)\n",
    "sigma_normal = sigma_x*(l1**2) + sigma_y*(m1**2) + sigma_z*n**2 + 2*(tau_xy*l1*m1 + tau_yz*m1*n1 + tau_xz*l1*n1)\n",
    "\n",
    "# print(dir_cos_matrix)\n",
    "\n",
    "print(stress_matrix_p)\n",
    "print(i1, i2, i3)\n",
    "print('Normal stress: ', sigma_normal)\n",
    "print('Abs max shearing stress: %.2f MPa' % tau_max)"
   ]
  },
  {
   "cell_type": "markdown",
   "metadata": {},
   "source": [
    "# Strain Calculations"
   ]
  },
  {
   "cell_type": "markdown",
   "metadata": {},
   "source": [
    "### Change of length between two points with given strain\n",
    "c = constant (typically 10e-6)"
   ]
  },
  {
   "cell_type": "code",
   "execution_count": 276,
   "metadata": {
    "scrolled": true
   },
   "outputs": [
    {
     "name": "stdout",
     "output_type": "stream",
     "text": [
      "Change of length (m):  0.0\n"
     ]
    }
   ],
   "source": [
    "pt1 = [0, 0]\n",
    "pt2 = [0, 0.06]\n",
    "eps_x = 0\n",
    "eps_y = 0\n",
    "gamma_xy = 0.000910\n",
    "\n",
    "d = m.dist(pt1, pt2)\n",
    "theta = m.atan((pt2[1]-pt1[1])/(pt2[0]-pt1[0]))*180/m.pi\n",
    "\n",
    "e_12 = (eps_x+eps_y)/2 + (eps_x-eps_y)*m.cos(2*theta*m.pi/180)/2 + gamma_xy*m.sin(2*theta*m.pi/180)/2\n",
    "d2 = d*e_12\n",
    "print('Change of length (m): ', d2)"
   ]
  },
  {
   "cell_type": "markdown",
   "metadata": {},
   "source": [
    "### 3D Volume Change of Block"
   ]
  },
  {
   "cell_type": "code",
   "execution_count": 390,
   "metadata": {},
   "outputs": [
    {
     "name": "stdout",
     "output_type": "stream",
     "text": [
      "Strains:  -0.00030476190476190474 -0.00030476190476190474 -0.00030476190476190474\n",
      "Displacements:  -0.0006095238095238095 -0.00045714285714285713 0.00030476190476190474\n",
      "dV:  0.002742857142857143\n"
     ]
    }
   ],
   "source": [
    "E = 210e9\n",
    "v = 0.3\n",
    "w = 2\n",
    "h = 1.5\n",
    "d = -1\n",
    "\n",
    "# If stresses provided\n",
    "sigma_x = -160e6\n",
    "sigma_y = -160e6\n",
    "sigma_z = -160e6\n",
    "\n",
    "eps_x = (1/E)*(sigma_x - v*(sigma_y + sigma_z))\n",
    "eps_y = (1/E)*(sigma_y - v*(sigma_x + sigma_z))\n",
    "eps_z = (1/E)*(sigma_z - v*(sigma_x + sigma_y))\n",
    "dx = eps_x * w\n",
    "dy = eps_y * h\n",
    "dz = eps_z * d\n",
    "\n",
    "eps_total = eps_x + eps_y + eps_z\n",
    "\n",
    "dV = eps_total*w*h*d\n",
    "\n",
    "print('Strains: ', eps_x, eps_y, eps_z)\n",
    "print('Displacements: ', dx, dy, dz)\n",
    "print('dV: ', dV)"
   ]
  },
  {
   "cell_type": "markdown",
   "metadata": {},
   "source": [
    "### 3D Strain Calculator - Given CSYS Rotation"
   ]
  },
  {
   "cell_type": "code",
   "execution_count": 479,
   "metadata": {
    "scrolled": true
   },
   "outputs": [
    {
     "name": "stdout",
     "output_type": "stream",
     "text": [
      "[[ 0.8660254 -0.5        0.       ]\n",
      " [ 0.5        0.8660254  0.       ]\n",
      " [ 0.         0.         1.       ]]\n",
      "Strain invariants:  243 -36088.0 0.0\n",
      "Principal strains:  [347.0, 0.0, -104.0]\n",
      "Principal strain direction:  0.0\n",
      "Max shear strain:  [451.0]\n",
      "Transformed strain matrix: \n",
      " [[234.25       195.28872855   0.        ]\n",
      " [195.28872855   8.75         0.        ]\n",
      " [  0.           0.           0.        ]]\n"
     ]
    }
   ],
   "source": [
    "pt1 = [3, 1, 2]\n",
    "eps_x = 347\n",
    "gamma_xy = 0\n",
    "gamma_xz = 0\n",
    "eps_y = -104\n",
    "gamma_yz = 0\n",
    "eps_z = 0\n",
    "\n",
    "# If points are provided to calculate vectors and cosines with\n",
    "pt1 = [0, 0, 0]\n",
    "pt2 = [3, 2, 0]\n",
    "pt3 = [0, 0, 0]\n",
    "# l1 = (pt2[0]-pt1[0])/m.sqrt((pt2[0]-pt1[0])**2 + (pt2[1]-pt1[1])**2 + (pt2[2]-pt1[2])**2)\n",
    "# m1 = (pt2[1]-pt1[1])/m.sqrt((pt2[0]-pt1[0])**2 + (pt2[1]-pt1[1])**2 + (pt2[2]-pt1[2])**2)\n",
    "# n1 = (pt2[2]-pt1[2])/m.sqrt((pt2[0]-pt1[0])**2 + (pt2[1]-pt1[1])**2 + (pt2[2]-pt1[2])**2)\n",
    "# l2 = (pt3[0]-pt1[0])/m.sqrt((pt3[0]-pt1[0])**2 + (pt3[1]-pt1[1])**2 + (pt3[2]-pt1[2])**2)\n",
    "# m2 = (pt3[1]-pt1[1])/m.sqrt((pt3[0]-pt1[0])**2 + (pt3[1]-pt1[1])**2 + (pt3[2]-pt1[2])**2)\n",
    "# n2 = (pt3[2]-pt1[2])/m.sqrt((pt3[0]-pt1[0])**2 + (pt3[1]-pt1[1])**2 + (pt3[2]-pt1[2])**2)\n",
    "\n",
    "# Override if angle provided\n",
    "# Angle in ZYX\n",
    "dir_cos_matrix = angle2dcm(-30, 0, 0)\n",
    "[l1, m1, n1], [l2, m2, n2], [l3, m3, n3] = dir_cos_matrix\n",
    "print(dir_cos_matrix)\n",
    "\n",
    "strain_matrix = np.array([[eps_x, gamma_xy/2, gamma_xz/2],\n",
    "                         [gamma_xy/2, eps_y, gamma_yz/2],\n",
    "                         [gamma_xz/2, gamma_yz/2, eps_z]])\n",
    "\n",
    "eps_x_p = eps_x*(l1**2) + eps_y*(m1**2) + eps_z*(n1**2) + gamma_xy*l1*m1 + gamma_yz*m1*n1 + gamma_xz*l1*n1\n",
    "eps_y_p = eps_x*(l2**2) + eps_y*(m2**2) + eps_z*(n2**2) + gamma_xy*l2*m2 + gamma_yz*m2*n2 + gamma_xz*l2*n2\n",
    "eps_z_p = eps_x*(l3**2) + eps_y*(m3**2) + eps_z*(n3**2) + gamma_xy*l3*m3 + gamma_yz*m3*n3 + gamma_xz*l3*n3\n",
    "gamma_xy_p = 2*(eps_x*l1*l2 + eps_y*m1*m2 + eps_z*n1*n2) + gamma_xy*(l1*m2 + m1*l2) + gamma_yz*(m1*n2 + n1*m2) + gamma_xz*(n1*l2 + l1*n2)\n",
    "gamma_xz_p = 2*(eps_x*l1*l3 + eps_y*m1*m3 + eps_z*n1*n3) + gamma_xy*(l1*m3 + m1*l3) + gamma_yz*(m1*n3 + n1*m3) + gamma_xz*(n1*l3 + l1*n3)\n",
    "gamma_yz_p = 2*(eps_x*l2*l3 + eps_y*m2*m3 + eps_z*n2*n3) + gamma_xy*(l2*m3 + m2*l3) + gamma_yz*(m2*n3 + n2*m3) + gamma_xz*(n2*l3 + l2*n3)\n",
    "\n",
    "# Calculate state of transformed strain\n",
    "strain_matrix_p = np.array([[eps_x_p, gamma_xy_p/2, gamma_xz_p/2],\n",
    "                         [gamma_xy_p/2, eps_y_p, gamma_yz_p/2],\n",
    "                         [gamma_xz_p/2, gamma_yz_p/2, eps_z_p]])\n",
    "j1 = eps_x + eps_y + eps_z\n",
    "j2 = eps_x*eps_y + eps_y*eps_z + eps_x*eps_z - (gamma_xy**2 + gamma_yz**2 + gamma_xz**2)/4\n",
    "j3 = np.linalg.det(strain_matrix)\n",
    "eps_p = sorted(np.roots([1, -j1, j2, -j3]), reverse=True)\n",
    "gamma_max = [(eps_p[0]-eps_p[2])]\n",
    "\n",
    "theta_p = 0.5*m.atan(gamma_xy/(eps_x-eps_y))*180/m.pi\n",
    "\n",
    "# print('Prime CSYS stresses: ', prime_stress_matrix)\n",
    "print('Strain invariants: ', j1, j2, j3)\n",
    "print('Principal strains: ', eps_p)\n",
    "print('Principal strain direction: ', theta_p)\n",
    "print('Max shear strain: ', gamma_max)\n",
    "print('Transformed strain matrix: \\n', strain_matrix_p)"
   ]
  },
  {
   "cell_type": "markdown",
   "metadata": {},
   "source": [
    "### Strain tensor for a state of stress\n",
    "Input: stress tensor with some material properties\n",
    "\n",
    "Output: strain tensor"
   ]
  },
  {
   "cell_type": "code",
   "execution_count": 310,
   "metadata": {},
   "outputs": [
    {
     "name": "stdout",
     "output_type": "stream",
     "text": [
      "Strain tensor (mu): \n",
      " [[442.85714286 891.42857143 148.57142857]\n",
      " [891.42857143 -95.71428571  18.57142857]\n",
      " [148.57142857  18.57142857 -95.71428571]]\n"
     ]
    }
   ],
   "source": [
    "stress_matrix = 1e6*np.array([[34, 48, 8],\n",
    "                         [48, 5, 1],\n",
    "                         [8, 1, 5]])\n",
    "[sigma_x, tau_xy, tau_xz] = stress_matrix[0]\n",
    "[tau_xy, sigma_y, tau_yz] = stress_matrix[1]\n",
    "[tau_xz, tau_yz, sigma_z] = stress_matrix[2]\n",
    "\n",
    "E = 70e9\n",
    "# G = 80e9\n",
    "# v = E/(2*G)-1\n",
    "v = 0.3\n",
    "G = E/(2*(1+v))\n",
    "\n",
    "eps_x = (1/E)*(sigma_x-v*(sigma_y+sigma_z))\n",
    "eps_y = (1/E)*(sigma_y-v*(sigma_x+sigma_z))\n",
    "eps_z = (1/E)*(sigma_z-v*(sigma_x+sigma_y))\n",
    "gamma_xy = tau_xy/G\n",
    "gamma_xz = tau_xz/G\n",
    "gamma_yz = tau_yz/G\n",
    "\n",
    "strain_matrix = 1e6*np.array([[eps_x, gamma_xy/2, gamma_xz/2],\n",
    "                         [gamma_xy/2, eps_y, gamma_yz/2],\n",
    "                         [gamma_xz/2, gamma_yz/2, eps_z]])\n",
    "print('Strain tensor (mu): \\n', strain_matrix)"
   ]
  },
  {
   "cell_type": "markdown",
   "metadata": {},
   "source": [
    "### Stress tensor for a state of strain\n",
    "Input: strain tensor with some material properties\n",
    "\n",
    "Output: stress tensor"
   ]
  },
  {
   "cell_type": "code",
   "execution_count": 359,
   "metadata": {},
   "outputs": [
    {
     "name": "stdout",
     "output_type": "stream",
     "text": [
      "Stress tensor (MPa): \n",
      " [[ 2.00000000e+01 -4.00000000e+00  5.00000000e+00]\n",
      " [-4.00000000e+00 -9.31322575e-16  1.00000000e+01]\n",
      " [ 5.00000000e+00  1.00000000e+01  1.50000000e+01]]\n"
     ]
    }
   ],
   "source": [
    "strain_matrix = 1e-6*np.array([[81.25, -25, 31.25],\n",
    "                         [-25, -43.75, 62.5],\n",
    "                         [31.25, 62.5, 50]])\n",
    "strain_matrix[0][1] = strain_matrix[0][1]*2\n",
    "strain_matrix[0][2] = strain_matrix[0][2]*2\n",
    "strain_matrix[1][2] = strain_matrix[1][2]*2\n",
    "strain_matrix[1][0] = strain_matrix[1][0]*2\n",
    "strain_matrix[2][0] = strain_matrix[2][0]*2\n",
    "strain_matrix[2][1] = strain_matrix[2][1]*2\n",
    "\n",
    "[eps_x, gamma_xy, gamma_xz] = strain_matrix[0]\n",
    "[gamma_xy, eps_y, gamma_yz] = strain_matrix[1]\n",
    "[gamma_xz, gamma_yz, eps_z] = strain_matrix[2]\n",
    "\n",
    "E = 200e9\n",
    "G = 80e9\n",
    "v = E/(2*G)-1\n",
    "lamb = v*E/((1+v)*(1-2*v))\n",
    "e = eps_x + eps_y + eps_z\n",
    "\n",
    "sigma_x = 2*G*eps_x + lamb*e\n",
    "sigma_y = 2*G*eps_y + lamb*e\n",
    "sigma_z = 2*G*eps_z + lamb*e\n",
    "tau_xy = G*gamma_xy\n",
    "tau_xz = G*gamma_xz\n",
    "tau_yz = G*gamma_yz\n",
    "\n",
    "stress_matrix = 1e-6*np.array([[sigma_x, tau_xy, tau_xz],\n",
    "                         [tau_xy, sigma_y, tau_yz],\n",
    "                         [tau_xz, tau_yz, sigma_z]])\n",
    "print('Stress tensor (MPa): \\n', stress_matrix)"
   ]
  },
  {
   "cell_type": "markdown",
   "metadata": {},
   "source": [
    "### Typical Strain Rosette (45 or 60 deg)\n",
    "Given rosette strains a, b, c"
   ]
  },
  {
   "cell_type": "code",
   "execution_count": 384,
   "metadata": {},
   "outputs": [
    {
     "name": "stdout",
     "output_type": "stream",
     "text": [
      "Principal strains (mu):  [0.00040765846990693344, -0.0013409918032402668]\n",
      "Principal stresses (MPa):  [1178226.1395282268, 1178226.1395282268]\n",
      "Direction of principal plane:  28.29100945404395\n"
     ]
    }
   ],
   "source": [
    "theta = 60 # Rectangular. Delta is 60 deg\n",
    "\n",
    "eps_a = -800e-6\n",
    "eps_b = -1000e-6\n",
    "eps_c = 400e-6\n",
    "E = 200e9\n",
    "v = 0.3\n",
    "\n",
    "if theta == 45:\n",
    "    eps_principal = sorted([0.5*(eps_a + eps_c + m.sqrt((eps_a-eps_c)**2 + (2*eps_b-eps_a-eps_c)**2)),\n",
    "                           0.5*(eps_a + eps_c - m.sqrt((eps_a-eps_c)**2 + (2*eps_b-eps_a-eps_c)**2))], reverse=True)\n",
    "    sigma_principal = sorted([(E/2)*((eps_a+eps_c)/(1-v) + m.sqrt((eps_a-eps_c)**2 + (2*eps_b-eps_a-eps_c)**2)/(1+v)),\n",
    "                       (E/2)*((eps_a+eps_c)/(1-v) - m.sqrt((eps_a-eps_c)**2 + (2*eps_b-eps_a-eps_c)**2)/(1+v))], reverse=True)\n",
    "    theta_p = (180/m.pi)*m.atan((2*eps_b - eps_a - eps_c)/(eps_a - eps_c))/2\n",
    "elif theta == 60:\n",
    "    eps_principal = sorted([(1/3)*(eps_a + eps_b + eps_c + m.sqrt(2)*m.sqrt((eps_a-eps_b)**2 + (eps_b-eps_c)**2 + (eps_c-eps_a)**2)),\n",
    "                           (1/3)*(eps_a + eps_b + eps_c - m.sqrt(2)*m.sqrt((eps_a-eps_b)**2 + (eps_b-eps_c)**2 + (eps_c-eps_a)**2))], reverse=True)\n",
    "    sigma_principal = sorted([(E/3)*((eps_a+eps_b+eps_c)/(1-v) + m.sqrt(2)*m.sqrt((eps_a-eps_b)**2 + (eps_b-eps_c)**2 + (eps_c-eps_a)**2)/(1+v)),\n",
    "                       (E/3)*((eps_a+eps_b+eps_c)/(1-v) + m.sqrt(2)*m.sqrt((eps_a-eps_b)**2 + (eps_b-eps_c)**2 + (eps_c-eps_a)**2)/(1+v))], reverse=True)\n",
    "    theta_p = (180/m.pi)*m.atan(m.sqrt(3)*(eps_b - eps_c)/(2*eps_b - eps_a - eps_c))/2\n",
    "    \n",
    "\n",
    "print('Principal strains (mu): ', eps_principal)\n",
    "print('Principal stresses (MPa): ', sigma_principal)\n",
    "print('Direction of principal plane: ', theta_p)"
   ]
  },
  {
   "cell_type": "markdown",
   "metadata": {},
   "source": [
    "### General Strain Rosette Solver - assume eps_a, b, c are given"
   ]
  },
  {
   "cell_type": "code",
   "execution_count": 469,
   "metadata": {
    "scrolled": true
   },
   "outputs": [
    {
     "name": "stdout",
     "output_type": "stream",
     "text": [
      "Strains eps_x, eps_y, gamma_xy:  -0.0008 0.00040000000000000013 -0.0015999999999999996\n",
      "Principal strains:  [0.0007999999999999998, -0.0011999999999999997]\n",
      "Max shear strain:  [0.0019999999999999996, -0.0019999999999999996]\n",
      "True max shear strain:  [0.0006285714285714284, -0.0006285714285714284]\n",
      "Principal strain plane angle:  26.565051177077986\n"
     ]
    }
   ],
   "source": [
    "theta_a = -30\n",
    "theta_b = 15\n",
    "theta_c = 60\n",
    "eps_a = -800e-6\n",
    "eps_b = -1000e-6\n",
    "eps_c = 400e-6\n",
    "E = 200e9\n",
    "v = 0.3\n",
    "# eps_x = 1\n",
    "# eps_y = 1\n",
    "eps_z = 0\n",
    "# gamma_xy = 1\n",
    "\n",
    "eps_dir = np.array([eps_a, eps_b, eps_c])\n",
    "eps_matrix = np.array([[(m.cos(theta_a*m.pi/180))**2, (m.sin(theta_a*m.pi/180))**2, (m.sin(theta_a*m.pi/180)*m.cos(theta_a*m.pi/180))],\n",
    "                      [(m.cos(theta_b*m.pi/180))**2, (m.sin(theta_b*m.pi/180))**2, (m.sin(theta_b*m.pi/180)*m.cos(theta_b*m.pi/180))],\n",
    "                      [(m.cos(theta_c*m.pi/180))**2, (m.sin(theta_c*m.pi/180))**2, (m.sin(theta_c*m.pi/180)*m.cos(theta_c*m.pi/180))]])\n",
    "eps_x, eps_y, gamma_xy = np.linalg.solve(eps_matrix, eps_dir)\n",
    "eps_3 = (-v/(1-v))*(eps_x + eps_y)\n",
    "\n",
    "eps_principal = sorted([(eps_x+eps_y)/2 + m.sqrt(((eps_x-eps_y)/2)**2 + (gamma_xy/2)**2),\n",
    "                       (eps_x+eps_y)/2 - m.sqrt(((eps_x-eps_y)/2)**2 + (gamma_xy/2)**2)], reverse=True)\n",
    "gamma_max = sorted([(eps_principal[0] - eps_principal[1]), -(eps_principal[0] - eps_principal[1])], reverse=True)\n",
    "true_gamma_max = sorted([(eps_principal[0] - eps_3), -(eps_principal[0] - eps_3)], reverse=True)\n",
    "theta_p = m.atan(gamma_xy/(eps_x-eps_y))*180/(m.pi*2)\n",
    "\n",
    "print('Strains eps_x, eps_y, gamma_xy: ', eps_x, eps_y, gamma_xy)\n",
    "print('Principal strains: ', eps_principal)\n",
    "print('Max shear strain: ', gamma_max)\n",
    "print('True max shear strain: ', true_gamma_max)\n",
    "print('Principal strain plane angle: ', theta_p)"
   ]
  },
  {
   "cell_type": "markdown",
   "metadata": {},
   "source": [
    "### Deviatoric and dilatational stresses, given a stress tensor"
   ]
  },
  {
   "cell_type": "code",
   "execution_count": 496,
   "metadata": {},
   "outputs": [
    {
     "name": "stdout",
     "output_type": "stream",
     "text": [
      "Principal deviator stresses (MPa):  [599999999.9999995, -199999999.9999988, -400000000.0000006]\n",
      "Dilatational matrix (MPa): \n",
      " [[400.   0.   0.]\n",
      " [  0. 400.   0.]\n",
      " [  0.   0. 400.]]\n",
      "Deviator matrix (MPa): \n",
      " [[-300.  100.    0.]\n",
      " [ 100. -300.    0.]\n",
      " [   0.    0.  600.]]\n"
     ]
    }
   ],
   "source": [
    "stress_matrix = 1e6*np.array([[100, 100, 0],\n",
    "                         [100, 100, 0],\n",
    "                         [0, 0, 1000]])\n",
    "[sigma_x, tau_xy, tau_xz] = stress_matrix[0]\n",
    "[tau_xy, sigma_y, tau_yz] = stress_matrix[1]\n",
    "[tau_xz, tau_yz, sigma_z] = stress_matrix[2]\n",
    "\n",
    "# Dilatational stress, sigma_m\n",
    "sigma_m = (sigma_x + sigma_y + sigma_z)/3\n",
    "dilatational_matrix = np.identity(3)*sigma_m\n",
    "\n",
    "# Deviator stress, sigma_m\n",
    "sigma_xm, sigma_ym, sigma_zm = [sigma_x-sigma_m, sigma_y-sigma_m, sigma_z-sigma_m]\n",
    "deviator_matrix = stress_matrix\n",
    "deviator_matrix[0][0] = sigma_xm\n",
    "deviator_matrix[1][1] = sigma_ym\n",
    "deviator_matrix[2][2] = sigma_zm\n",
    "\n",
    "i1 = sigma_xm + sigma_ym + sigma_zm\n",
    "i2 = sigma_xm*sigma_ym + sigma_ym*sigma_zm + sigma_xm*sigma_zm - tau_xy**2 - tau_yz**2 - tau_xz**2\n",
    "i3 = np.linalg.det(deviator_matrix)\n",
    "sigma_m_p = sorted(np.roots([1, -i1, i2, -i3]), reverse=True)\n",
    "\n",
    "print('Principal deviator stresses (MPa): ', sigma_m_p)\n",
    "print('Dilatational matrix (MPa): \\n', 1e-6*dilatational_matrix)\n",
    "print('Deviator matrix (MPa): \\n', 1e-6*deviator_matrix)"
   ]
  },
  {
   "cell_type": "markdown",
   "metadata": {},
   "source": [
    "   "
   ]
  },
  {
   "cell_type": "markdown",
   "metadata": {},
   "source": [
    "----------------------------------------------------------"
   ]
  },
  {
   "cell_type": "markdown",
   "metadata": {},
   "source": [
    "# Utilities"
   ]
  },
  {
   "cell_type": "code",
   "execution_count": 118,
   "metadata": {},
   "outputs": [],
   "source": [
    "def input_check_Nx1(x):\n",
    "    \"\"\"\n",
    "    Check x to be of dimension Nx1 and reshape it as a 1-D array\n",
    "    Adhika Lie\n",
    "    \"\"\"\n",
    "    x = np.atleast_1d(x)\n",
    "    theSize = np.shape(x)\n",
    "\n",
    "    if(len(theSize) > 1):\n",
    "        # 1. Input must be of size N x 1\n",
    "        if ((theSize[0] != 1) & (theSize[1] != 1)):\n",
    "            raise ValueError('Not an N x 1 array')\n",
    "        # 2. Make it into a 1-D array\n",
    "        x = x.reshape(_np.size(x))\n",
    "    elif (theSize[0] == 1):\n",
    "        x = x[0]\n",
    "\n",
    "    return x, np.size(x)"
   ]
  },
  {
   "cell_type": "code",
   "execution_count": 116,
   "metadata": {},
   "outputs": [],
   "source": [
    "def angle2dcm(rotAngle1, rotAngle2, rotAngle3, input_unit='deg',\n",
    "              rotation_sequence='ZYX', output_type='ndarray'):\n",
    "    \"\"\"\n",
    "    This function converts Euler Angle into Direction Cosine Matrix (DCM).\n",
    "    The DCM is described by three sucessive rotation rotAngle1, rotAngle2, and\n",
    "    rotAngle3 about the axes described by the rotation_sequence.\n",
    "    The default rotation_sequence='ZYX' is the aerospace sequence and rotAngle1\n",
    "    is the yaw angle, rotAngle2 is the pitch angle, and rotAngle3 is the roll\n",
    "    angle. In this case DCM transforms a vector from the locally level\n",
    "    coordinate frame (i.e. the NED frame) to the body frame.\n",
    "    This function can batch process a series of rotations (e.g., time series\n",
    "    of Euler angles).\n",
    "    Parameters\n",
    "    ----------\n",
    "    rotAngle1, rotAngle2, rotAngle3 : angles {(N,), (N,1), or (1,N)}\n",
    "            They are a sequence of angles about successive axes described by\n",
    "            rotation_sequence.\n",
    "    input_unit : {'rad', 'deg'}, optional\n",
    "            Rotation angles. Default is 'rad'.\n",
    "    rotation_sequence : {'ZYX'}, optional\n",
    "            Rotation sequences. Default is 'ZYX'.\n",
    "    output_type : {'ndarray','matrix'}, optional\n",
    "            Output type. Default is 'ndarray'.\n",
    "    Returns\n",
    "    --------\n",
    "    C : {3x3} Direction Cosine Matrix\n",
    "    Notes\n",
    "    -----\n",
    "    Programmer:    Adhika Lie\n",
    "    Created:    \t May 03, 2011\n",
    "    Last Modified: January 12, 2016\n",
    "    \"\"\"\n",
    "    rotAngle1, N1 = input_check_Nx1(rotAngle1)\n",
    "    rotAngle2, N2 = input_check_Nx1(rotAngle2)\n",
    "    rotAngle3, N3 = input_check_Nx1(rotAngle3)\n",
    "\n",
    "    if(N1 != N2 or N1 != N3):\n",
    "        raise ValueError('Inputs are not of same dimensions')\n",
    "    if(N1 > 1 and output_type != 'ndarray'):\n",
    "        raise ValueError('Matrix output requires scalar inputs')\n",
    "\n",
    "    R3 = np.zeros((N1, 3, 3))\n",
    "    R2 = np.zeros((N1, 3, 3))\n",
    "    R1 = np.zeros((N1, 3, 3))\n",
    "\n",
    "    if(input_unit == 'deg'):\n",
    "        rotAngle1 = np.deg2rad(rotAngle1)\n",
    "        rotAngle2 = np.deg2rad(rotAngle2)\n",
    "        rotAngle3 = np.deg2rad(rotAngle3)\n",
    "\n",
    "    R3[:, 2, 2] = 1.0\n",
    "    R3[:, 0, 0] = np.cos(rotAngle1)\n",
    "    R3[:, 0, 1] = np.sin(rotAngle1)\n",
    "    R3[:, 1, 0] = -np.sin(rotAngle1)\n",
    "    R3[:, 1, 1] = np.cos(rotAngle1)\n",
    "\n",
    "    R2[:, 1, 1] = 1.0\n",
    "    R2[:, 0, 0] = np.cos(rotAngle2)\n",
    "    R2[:, 0, 2] = -np.sin(rotAngle2)\n",
    "    R2[:, 2, 0] = np.sin(rotAngle2)\n",
    "    R2[:, 2, 2] = np.cos(rotAngle2)\n",
    "\n",
    "    R1[:, 0, 0] = 1.0\n",
    "    R1[:, 1, 1] = np.cos(rotAngle3)\n",
    "    R1[:, 1, 2] = np.sin(rotAngle3)\n",
    "    R1[:, 2, 1] = -np.sin(rotAngle3)\n",
    "    R1[:, 2, 2] = np.cos(rotAngle3)\n",
    "\n",
    "    if rotation_sequence == 'ZYX':\n",
    "        try:\n",
    "            # Equivalent to C = R1.dot(R2.dot(R3)) for each of N inputs but\n",
    "            # implemented efficiently in C extension\n",
    "            C = np.einsum('nij, njk, nkm -> nim', R1, R2, R3)\n",
    "        except AttributeError:\n",
    "            # Older NumPy without einsum\n",
    "            C = np.zeros((N1, 3, 3))\n",
    "            for i, (R1, R2, R3) in enumerate(zip(R1, R2, R3)):\n",
    "                C[i] = R1.dot(R2.dot(R3))\n",
    "    else:\n",
    "        raise NotImplementedError('Rotation sequences other than ZYX are not currently implemented')\n",
    "\n",
    "    if(N1 == 1):\n",
    "        C = C[0]\n",
    "    if(output_type == 'matrix'):\n",
    "        C = np.matrix(C)\n",
    "\n",
    "    return C"
   ]
  }
 ],
 "metadata": {
  "kernelspec": {
   "display_name": "Python 3",
   "language": "python",
   "name": "python3"
  },
  "language_info": {
   "codemirror_mode": {
    "name": "ipython",
    "version": 3
   },
   "file_extension": ".py",
   "mimetype": "text/x-python",
   "name": "python",
   "nbconvert_exporter": "python",
   "pygments_lexer": "ipython3",
   "version": "3.8.3"
  }
 },
 "nbformat": 4,
 "nbformat_minor": 4
}
