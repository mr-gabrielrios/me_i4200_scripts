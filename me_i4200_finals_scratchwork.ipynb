{
 "cells": [
  {
   "cell_type": "code",
   "execution_count": 2,
   "metadata": {},
   "outputs": [],
   "source": [
    "import numpy as np\n",
    "import math as m"
   ]
  },
  {
   "cell_type": "markdown",
   "metadata": {},
   "source": [
    "### Scratch work"
   ]
  },
  {
   "cell_type": "code",
   "execution_count": 65,
   "metadata": {},
   "outputs": [
    {
     "name": "stdout",
     "output_type": "stream",
     "text": [
      "52500000.0000001 105000000.0000002 18044778.128332842\n",
      "1.332366979547321\n"
     ]
    }
   ],
   "source": [
    "# Problem 4.20 blaze it\n",
    "P = 5e6\n",
    "T = 50e3\n",
    "ou = 250e6\n",
    "oup = 520e6\n",
    "do = 0.21\n",
    "di = 0.2\n",
    "\n",
    "c = do/2\n",
    "r = (do)/2\n",
    "t = (do-di)/2\n",
    "J = 2*np.pi*(do**3)*t\n",
    "\n",
    "tau_xy = T*c/J\n",
    "ox = P*r/(2*t)\n",
    "oy = P*r/(t)\n",
    "\n",
    "print(ox, oy, tau_xy)\n",
    "\n",
    "print(1/(284.9285/420 - -64.9285/900))"
   ]
  },
  {
   "cell_type": "code",
   "execution_count": 68,
   "metadata": {},
   "outputs": [
    {
     "data": {
      "text/plain": [
       "187.5"
      ]
     },
     "execution_count": 68,
     "metadata": {},
     "output_type": "execute_result"
    }
   ],
   "source": [
    "20*.125*12/(8*.01)/2"
   ]
  },
  {
   "cell_type": "markdown",
   "metadata": {},
   "source": [
    "### 3D Principal Stresses (x, y, z coordinate system only)\n",
    "Fill out matrix below as provided in the question. Relevant parameters will be printed."
   ]
  },
  {
   "cell_type": "code",
   "execution_count": 28,
   "metadata": {
    "scrolled": true
   },
   "outputs": [
    {
     "name": "stdout",
     "output_type": "stream",
     "text": [
      "Invariants:  220 -18500 0.0\n",
      "Principal stresses:  [284.928556845359, 0.0, -64.92855684535901]\n",
      "Direction:  [0.8701999067534787, 0.4926988149835931, 0.0]\n",
      "Octahedral normal stress: 73.33 MPa\n",
      "Octahedral shear stress: 151.95 MPa\n",
      "Abs max shearing stress: 174.93 MPa\n"
     ]
    }
   ],
   "source": [
    "stress_mat = np.array([[ 200, 150, 0],\n",
    "                       [ 150, 20, 0],\n",
    "                       [ 0, 0, 0]])\n",
    "\n",
    "principal_stresses(stress_mat[0, 0], stress_mat[0, 1], stress_mat[0, 2], stress_mat[1, 1], stress_mat[1, 2], stress_mat[2, 2])"
   ]
  },
  {
   "cell_type": "code",
   "execution_count": 6,
   "metadata": {
    "scrolled": true
   },
   "outputs": [],
   "source": [
    "def principal_stresses(sigma_x, tau_xy, tau_xz, sigma_y, tau_yz, sigma_z):\n",
    "    # Calculate principal stresses\n",
    "    stress_matrix = np.array([[sigma_x, tau_xy, tau_xz],\n",
    "                             [tau_xy, sigma_y, tau_yz],\n",
    "                             [tau_xz, tau_yz, sigma_z]])\n",
    "    i1 = sigma_x + sigma_y + sigma_z\n",
    "    i2 = sigma_x*sigma_y + sigma_y*sigma_z + sigma_x*sigma_z - tau_xy**2 - tau_yz**2 - tau_xz**2\n",
    "    i3 = np.linalg.det(stress_matrix)\n",
    "    sigma_p = sorted(np.roots([1, -i1, i2, -i3]), reverse=True)\n",
    "\n",
    "    # Calculate directional cosines (l, m, n)\n",
    "    a = np.linalg.det(\n",
    "        np.array([[sigma_y-sigma_p[0], tau_yz],\n",
    "                  [tau_yz, sigma_z-sigma_p[0]]]))\n",
    "    b = -np.linalg.det(\n",
    "        np.array([[tau_xy, tau_yz],\n",
    "                  [tau_xz, sigma_z-sigma_p[0]]]))\n",
    "    c = np.linalg.det(\n",
    "        np.array([[tau_xy, sigma_y-sigma_p[0]],\n",
    "                  [tau_xz, tau_yz]]))\n",
    "    k = 1/m.sqrt(a**2 + b**2 + c**2)\n",
    "    l1 = a*k\n",
    "    m1 = b*k\n",
    "    n1 = c*k\n",
    "    dir_cos = [l1, m1, n1]\n",
    "\n",
    "    sigma_oct = sum(sigma_p)/3\n",
    "    tau_oct = m.sqrt((sigma_p[0]-sigma_p[1])**2 + (sigma_p[1]-sigma_p[2])**2 + (sigma_p[2]-sigma_p[0])**2)/3\n",
    "    tau_max = (sigma_p[0]-sigma_p[2])/2\n",
    "\n",
    "    # print('Prime CSYS stresses: ', prime_stress_matrix)\n",
    "    print('Invariants: ', i1, i2, i3)\n",
    "    print('Principal stresses: ', sigma_p)\n",
    "    print('Direction: ', dir_cos)\n",
    "    print('Octahedral normal stress: %.2f MPa' % sigma_oct)\n",
    "    print('Octahedral shear stress: %.2f MPa' % tau_oct)\n",
    "    print('Abs max shearing stress: %.2f MPa' % tau_max)"
   ]
  }
 ],
 "metadata": {
  "kernelspec": {
   "display_name": "Python 3",
   "language": "python",
   "name": "python3"
  },
  "language_info": {
   "codemirror_mode": {
    "name": "ipython",
    "version": 3
   },
   "file_extension": ".py",
   "mimetype": "text/x-python",
   "name": "python",
   "nbconvert_exporter": "python",
   "pygments_lexer": "ipython3",
   "version": "3.8.3"
  }
 },
 "nbformat": 4,
 "nbformat_minor": 4
}
