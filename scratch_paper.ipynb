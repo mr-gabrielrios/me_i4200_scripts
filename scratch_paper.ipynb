{
 "cells": [
  {
   "cell_type": "code",
   "execution_count": 1,
   "metadata": {},
   "outputs": [],
   "source": [
    "import numpy as np"
   ]
  },
  {
   "cell_type": "code",
   "execution_count": 114,
   "metadata": {},
   "outputs": [
    {
     "name": "stdout",
     "output_type": "stream",
     "text": [
      "a/b = 1.5\n",
      "710825.0044485998 Pa\n"
     ]
    }
   ],
   "source": [
    "### Q1 - The torque T produces a rotation... (primsatic cantilevered bar in torsion)\n",
    "a = 0.024\n",
    "b = 0.016\n",
    "L = 400\n",
    "G = 80e9\n",
    "phi = 15*np.pi/180\n",
    "theta = phi/L\n",
    "\n",
    "### 1. Find a/b and find corresponding alpha and beta values from Table 6.1\n",
    "c = a/b\n",
    "print('a/b =', c)\n",
    "alpha = 0.231\n",
    "beta = 0.196\n",
    "\n",
    "### 2. Calculate torque, T.\n",
    "T = theta*beta*a*(b**3)*G\n",
    "\n",
    "### 3. Calculate max shear stress, tau.\n",
    "tau = T/(alpha*a*(b**2))\n",
    "print(tau, 'Pa')\n"
   ]
  },
  {
   "cell_type": "code",
   "execution_count": 102,
   "metadata": {},
   "outputs": [
    {
     "name": "stdout",
     "output_type": "stream",
     "text": [
      "0.4\n",
      "2177.1818659488863\n"
     ]
    }
   ],
   "source": [
    "### Q2 - A 7075-T7351 aluminum alloy beam... (crack growth and fracture stress)\n",
    "a = 0.048\n",
    "w = 0.120\n",
    "t = 0.030\n",
    "n = 2\n",
    "c = w/2\n",
    "\n",
    "### 1. Re-write expression to solve for M.\n",
    "\n",
    "### 2. Find Kc and lambda for 7075-T7351 alloy. Calculate allowable stress, sigma.\n",
    "print(a/w)\n",
    "ld = 1.32\n",
    "Kc = 31e6\n",
    "sigma = Kc/(ld*n*np.sqrt(np.pi*a))\n",
    "\n",
    "### 3. Find inertia, I.\n",
    "I = (1/12)*t*w**3\n",
    "\n",
    "### 4. Find moment, M.\n",
    "M = sigma*I/c\n",
    "print(M)"
   ]
  },
  {
   "cell_type": "code",
   "execution_count": 100,
   "metadata": {},
   "outputs": [
    {
     "name": "stdout",
     "output_type": "stream",
     "text": [
      "ybar = 0.016307692307692308\n",
      "M = 465.2307692307692\n",
      "R = 0.05298325626388939\n",
      "rbar = 0.05630769230769231\n",
      "e = 0.0033244360438029197\n",
      "sigma_b = 82829616.66276492\n"
     ]
    }
   ],
   "source": [
    "### Q5 - A machine component of channel cross-sectional area... (U-beam with semi-circular arc)\n",
    "t1 = 0.004\n",
    "t2 = 0.008\n",
    "b = 0.040\n",
    "h = 0.030\n",
    "d = 0.060\n",
    "ri = 0.040\n",
    "ro = ri + t2 + b\n",
    "P = -4000\n",
    "\n",
    "### 1. Find cross-sectional centroid in radial direction, y.\n",
    "A1 = t2*(h + 2*t1)\n",
    "A2 = b*t1\n",
    "A3 = A2\n",
    "y1 = t2/2\n",
    "y2 = t2 + b/2\n",
    "y3 = t2 + b/2\n",
    "ybar = (A1*y1 + A2*y2 + A3*y3)/(A1 + A2 + A3)\n",
    "print('ybar =', ybar)\n",
    "\n",
    "### 2. Find moment, M.\n",
    "M = -P*(d + ri + ybar)\n",
    "print('M =', M)\n",
    "\n",
    "### 3. Find neutral axis, R.\n",
    "R = (A1 + A2 + A3)/((h + 2*t1)*np.log((ri + t2)/(ri)) + 2*t1*np.log((ri + t2 + b)/(ri + t2)))\n",
    "print('R =', R)\n",
    "\n",
    "### 4. Find central axis, rbar.\n",
    "rbar = ri + ybar\n",
    "print('rbar =', rbar)\n",
    "\n",
    "### 5. Find e.\n",
    "e = rbar - R\n",
    "print('e =', e)\n",
    "\n",
    "### 6. Find sigma_a, sigma_b.\n",
    "ra = ri\n",
    "rb = ro\n",
    "\n",
    "sigma_a = P/(A1 + A2 + A3) - M*(R - ra)/((A1 + A2 + A3)*e*ra)\n",
    "sigma_b = P/(A1 + A2 + A3) - M*(R - rb)/((A1 + A2 + A3)*e*rb)\n",
    "print('sigma_b =', sigma_b)"
   ]
  },
  {
   "cell_type": "code",
   "execution_count": 89,
   "metadata": {},
   "outputs": [
    {
     "name": "stdout",
     "output_type": "stream",
     "text": [
      "0.01733705000020201 m\n",
      "17.337050000202012 mm\n"
     ]
    }
   ],
   "source": [
    "### Q6 - A simple beam pan length... (composite beam question)\n",
    "L = 3\n",
    "p = 40000\n",
    "a = 0.0625\n",
    "b = 0.075\n",
    "h = 0.225\n",
    "sigma_s = 140e6\n",
    "sigma_w = 10e6\n",
    "E_s = 210e9\n",
    "E_w = 10.5e9\n",
    "t = 0\n",
    "\n",
    "### 1. Find expression for maximum moment.\n",
    "M = p*L**2/8\n",
    "\n",
    "### 2. Find expression for maximum bending stress.\n",
    "\n",
    "### 3. Get elastic modulus ratio, n.\n",
    "n = E_s/E_w\n",
    "\n",
    "### 4. Get expression for transformed width of steel section.\n",
    "\n",
    "### 6. Calculate maximum inertia in steel.\n",
    "I_max = n*M*(h/2)/sigma_s\n",
    "\n",
    "### 5. Get inertia for hollow box.\n",
    "I_solid = (1/12)*(b + 2*n*t)*h**3\n",
    "I_hollow = (1/12)*b*((h-2*a)**3)\n",
    "I_total = I_solid - I_hollow\n",
    "    \n",
    "### 7. Find thickness, t.\n",
    "c = 0.00001\n",
    "while abs((I_total-I_max))/I_max > c:\n",
    "    I_solid = (1/12)*(b + 2*n*t)*h**3\n",
    "    I_hollow = (1/12)*b*((h-2*a)**3)\n",
    "    I_total = I_solid - I_hollow\n",
    "    t += 0.001*c\n",
    "\n",
    "print(t, 'm')\n",
    "print(t*1000, 'mm')"
   ]
  },
  {
   "cell_type": "code",
   "execution_count": 55,
   "metadata": {},
   "outputs": [
    {
     "name": "stdout",
     "output_type": "stream",
     "text": [
      "I = 1.2566370614359172e-07\n",
      "P = 14159.265358979312\n"
     ]
    }
   ],
   "source": [
    "### Q10 - A steel circular bar of d... (axial and compressive loads)\n",
    "d = 0.040\n",
    "sigma_yp = 250e6\n",
    "M = 1500\n",
    "\n",
    "### 1. Express axial stress and solve equation for P.\n",
    "\n",
    "### 2. Find I.\n",
    "I = np.pi*(d**4)/64\n",
    "print('I =', I)\n",
    "\n",
    "### 3. Express eqn. for maximum energy of distortion theory.\n",
    "\n",
    "### 4. Find P.\n",
    "P = (sigma_yp - M*(d/2)/I)*(np.pi*(d/2)**2)\n",
    "print('P =', P)"
   ]
  },
  {
   "cell_type": "code",
   "execution_count": 103,
   "metadata": {},
   "outputs": [
    {
     "name": "stdout",
     "output_type": "stream",
     "text": [
      "0.020176544766708705 m\n",
      "20.176544766708705 mm\n"
     ]
    }
   ],
   "source": [
    "### Q12 - An H-section beam with unequal flanges is subjected to...\n",
    "b1 = 0.090\n",
    "b2 = 0.040\n",
    "t1 = 0.010\n",
    "t2 = 0.010\n",
    "h = 0.250\n",
    "\n",
    "e1 = h/(1 + (t1*b1**3)/(t2*b2**3))\n",
    "print(e1, 'm')\n",
    "print(e1*1000, 'mm')"
   ]
  },
  {
   "cell_type": "code",
   "execution_count": 113,
   "metadata": {},
   "outputs": [
    {
     "name": "stdout",
     "output_type": "stream",
     "text": [
      "sigma_1 = 96.16181891956798\n",
      "sigma_2 = -52.87063322782199\n",
      "d_minimum = 0.01247369999997937\n"
     ]
    }
   ],
   "source": [
    "### Q13 - A torsion-bar spring made of ASTM... (loading and torsion w/Coulomb-Mohr)\n",
    "Kb = 1.7\n",
    "Kt = 1.4\n",
    "P = 25\n",
    "T = 10\n",
    "n = 3\n",
    "crit = 0.0001\n",
    "d = .009\n",
    "a = 0.1\n",
    "c = d/2\n",
    "r = d/2\n",
    "sigma_u = 170e6\n",
    "sigma_u_p = 650e6\n",
    "\n",
    "### 1. Find expressions for sigma_x and tau_xy.\n",
    "\n",
    "### 2. Find I and J\n",
    "I = np.pi*(d**4)/64\n",
    "J = np.pi*(d**4)/32\n",
    "\n",
    "### 3. Find M\n",
    "M = P*a\n",
    "\n",
    "### 4. Find stresses\n",
    "sigma_x = Kb*M*c/I\n",
    "tau_xy = Kt*T*r/J\n",
    "\n",
    "### 5. Find principal stresses sigma_1 and sigma_2.\n",
    "sigma_1 = sigma_x/2 + np.sqrt((sigma_x/2)**2 + (tau_xy)**2)\n",
    "sigma_2 = sigma_x/2 - np.sqrt((sigma_x/2)**2 + (tau_xy)**2)\n",
    "\n",
    "### 6. Solve for d in Coulomb-Mohr equation.\n",
    "n_d = 1/(sigma_1/sigma_u - sigma_2/sigma_u_p)\n",
    "\n",
    "### 7. Solve for d iteratively\n",
    "while abs((n_d-n))/n > crit:\n",
    "    \n",
    "    c = d/2\n",
    "    r = d/2\n",
    "    \n",
    "    ### 2. Find I and J\n",
    "    I = np.pi*(d**4)/64\n",
    "    J = np.pi*(d**4)/32\n",
    "\n",
    "    ### 3. Find M\n",
    "    M = P*a\n",
    "\n",
    "    ### 4. Find stresses\n",
    "    sigma_x = Kb*M*c/I\n",
    "    tau_xy = Kt*T*r/J\n",
    "\n",
    "    ### 5. Find principal stresses sigma_1 and sigma_2.\n",
    "    sigma_1 = sigma_x/2 + np.sqrt((sigma_x/2)**2 + (tau_xy)**2)\n",
    "    sigma_2 = sigma_x/2 - np.sqrt((sigma_x/2)**2 + (tau_xy)**2)\n",
    "\n",
    "    ### 6. Solve for d in Coulomb-Mohr equation.\n",
    "    n_d = 1/(sigma_1/sigma_u - sigma_2/sigma_u_p)\n",
    "    d += 0.001*crit\n",
    "\n",
    "print('sigma_1 =', sigma_1*d**3)\n",
    "print('sigma_2 =', sigma_2*d**3)\n",
    "\n",
    "print('d_minimum =', d)"
   ]
  },
  {
   "cell_type": "code",
   "execution_count": 111,
   "metadata": {},
   "outputs": [
    {
     "name": "stdout",
     "output_type": "stream",
     "text": [
      "0.011326202167763092\n"
     ]
    }
   ],
   "source": [
    "d3 = 96.1618*3/(170e6)+(-52.87*3/650e6)\n",
    "print(d3**(1/3))"
   ]
  }
 ],
 "metadata": {
  "kernelspec": {
   "display_name": "Python 3",
   "language": "python",
   "name": "python3"
  },
  "language_info": {
   "codemirror_mode": {
    "name": "ipython",
    "version": 3
   },
   "file_extension": ".py",
   "mimetype": "text/x-python",
   "name": "python",
   "nbconvert_exporter": "python",
   "pygments_lexer": "ipython3",
   "version": "3.8.3"
  }
 },
 "nbformat": 4,
 "nbformat_minor": 4
}
