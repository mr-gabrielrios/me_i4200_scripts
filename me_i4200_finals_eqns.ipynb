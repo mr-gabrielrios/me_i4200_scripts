{
 "cells": [
  {
   "cell_type": "markdown",
   "metadata": {},
   "source": [
    "## Formula Sheet for ME 54100/I4200 Final Exam\n",
    "\n",
    "Equations are written in $LaTeX$.\n",
    "\n",
    "<b>Note:</b> This is an incomplete list of the equations in the book - I only included equations I felt relevant to the problems that might be asked on the exam."
   ]
  },
  {
   "cell_type": "markdown",
   "metadata": {},
   "source": [
    "### Sections 3.3/3.4: Plane Strain and Stress - 2D\n",
    "\n",
    "Strain expressions: <br/>\n",
    "$\\epsilon_x = \\frac{\\partial u}{\\partial x} $ <br/>\n",
    "$ \\quad = \\frac{1-\\nu^2}{E}(\\sigma_x-\\frac{\\nu}{1-\\nu}\\sigma_y) $ <br/>\n",
    "$ \\quad = \\frac{1}{E}(\\sigma_x-\\nu\\sigma_y) $ <br/>\n",
    "\n",
    "$\\epsilon_y = \\frac{\\partial v}{\\partial y} $ <br/>\n",
    "$ \\quad = \\frac{1-\\nu^2}{E}(\\sigma_y-\\frac{\\nu}{1-\\nu}\\sigma_x) $ <br/>\n",
    "$ \\quad = \\frac{1}{E}(\\sigma_y-\\nu\\sigma_x)$ <br/>\n",
    "\n",
    "$\\epsilon_z = -\\frac{\\nu}{E}(\\sigma_x+\\sigma_y)$ <br/>\n",
    "\n",
    "$\\gamma_{xy} = \\frac{\\partial u}{\\partial y}+\\frac{\\partial v}{\\partial y} $ <br/>\n",
    "$ \\quad = \\frac{\\tau_{xy}}{G}$ <br/>\n",
    "\n",
    "Stress expressions: <br/>\n",
    "$\\sigma_x = 2G\\epsilon_x + \\lambda (\\epsilon_x + \\epsilon_y)$ <br/>\n",
    "$\\sigma_y = 2G\\epsilon_y + \\lambda (\\epsilon_x + \\epsilon_y)$ <br/>\n",
    "$\\tau_{xy} = G\\gamma_{xy}$ <br/>\n",
    "\n",
    "Compatibility equations (in terms of stress): <br/>\n",
    "$\\frac{\\partial\\sigma_x}{\\partial x} + \\frac{\\partial\\tau_{xy}}{\\partial y} + F_x = 0$ <br/>\n",
    "$\\frac{\\partial\\sigma_y}{\\partial y} + \\frac{\\partial\\tau_{xy}}{\\partial x} + F_y = 0$ <br/>\n",
    "$(\\frac{\\partial^2}{\\partial x^2} + \\frac{\\partial^2}{\\partial y^2})(\\sigma_x + \\sigma_y) = \\frac{-1}{1-\\nu}(\\frac{\\partial F_x}{\\partial x} + \\frac{\\partial F_y}{\\partial y}) $ <br/>"
   ]
  },
  {
   "cell_type": "markdown",
   "metadata": {},
   "source": [
    "### Section 3.6: Airy's Stress Function\n",
    "\n",
    "$ \\nabla^4\\Phi = 0 = \\frac{\\partial^4\\Phi}{\\partial x^4} + 2\\frac{\\partial^4\\Phi}{\\partial x^2 \\partial y^2} + \\frac{\\partial^4\\Phi}{\\partial y^4} $ <br/>\n",
    "\n",
    "Stress expressions: <br/>\n",
    "$ \\sigma_x = \\frac{\\partial^2\\Phi}{\\partial y^2} $ <br/>\n",
    "$ \\sigma_y = \\frac{\\partial^2\\Phi}{\\partial x^2} $ <br/>\n",
    "$ \\tau_{xy} = -\\frac{\\partial^2\\Phi}{\\partial x \\partial y} $ <br/>"
   ]
  },
  {
   "cell_type": "markdown",
   "metadata": {},
   "source": [
    "### Section 3.9: Basic Relations in Polar Coordinates\n",
    "\n",
    "Strain expressions: <br/>\n",
    "$ \\epsilon_r = \\frac{\\partial u}{\\partial r} $ <br/>\n",
    "$ \\quad = \\frac{1}{E}(\\sigma_r - \\nu\\sigma_\\theta) $ (for plane stress problems) <br/>\n",
    "$ \\quad = \\frac{1 + \\nu}{E}[(1-\\nu)\\sigma_r - \\nu\\sigma_\\theta] $ (for plane strain problems) <br/>\n",
    "\n",
    "$ \\epsilon_\\theta = \\frac{1}{r}\\frac{\\partial v}{\\partial \\theta} + \\frac{u}{r} $ <br/>\n",
    "$ \\quad = \\frac{1}{E}(\\sigma_\\theta - \\nu\\sigma_r) $ (for plane stress problems) <br/>\n",
    "$ \\quad = \\frac{1 + \\nu}{E}[(1-\\nu)\\sigma_\\theta - \\nu\\sigma_r] $ (for plane strain problems) <br/>\n",
    "\n",
    "$ \\gamma_{r\\theta} = \\frac{1}{G}\\tau_{r\\theta} $ <br/>\n",
    "$ \\quad = \\frac{\\partial v}{\\partial r} + \\frac{1}{r}\\frac{\\partial u}{\\partial \\theta} - \\frac{v}{r} $ <br/>\n",
    "\n",
    "Stress expressions: <br/>\n",
    "$ \\sigma_r = \\frac{1}{r}\\frac{\\partial \\phi}{\\partial r} + \\frac{1}{r^2}\\frac{\\partial^2 \\phi}{\\partial \\theta^2} $ <br/>\n",
    "$ \\sigma_\\theta = \\frac{\\partial^2 \\phi}{\\partial r^2} $ <br/>\n",
    "$ \\tau_{r\\theta} = -\\frac{\\partial}{\\partial r}(\\frac{1}{r}\\frac{\\partial \\phi}{\\partial \\theta}) $ <br/>\n",
    "\n",
    "Equations of equilibrium: <br/>\n",
    "$ \\frac{\\partial \\sigma_r}{\\partial r} + \\frac{1}{r}\\frac{\\partial \\tau_{r\\theta}}{\\partial \\theta} + \\frac{\\sigma_r-\\sigma_\\theta}{r} + F_r = 0 $ <br/>\n",
    "$ \\frac{1}{r}\\frac{\\partial \\sigma_\\theta}{\\partial \\theta} + \\frac{\\partial \\tau_{r\\theta}}{\\partial r} + \\frac{2\\tau_{r\\theta}}{r} + F_\\theta = 0 $ <br/>\n",
    "\n",
    "Equation of compatibility: <br/>\n",
    "$ \\nabla^4\\Phi = 0 = (\\frac{\\partial^2}{\\partial r^2} + \\frac{1}{r}\\frac{\\partial}{\\partial r} + \\frac{1}{r^2}\\frac{\\partial^2}{\\partial \\theta^2})(\\nabla^2 \\Phi) $ <br/>\n",
    "$ \\quad\\quad = (\\frac{\\partial^2}{\\partial r^2} + \\frac{1}{r}\\frac{\\partial}{\\partial r} + \\frac{1}{r^2}\\frac{\\partial^2}{\\partial \\theta^2})(\\frac{\\partial^2\\Phi}{\\partial r^2} + \\frac{1}{r}\\frac{\\partial\\Phi}{\\partial r} + \\frac{1}{r^2} \\frac{\\partial^2 \\Phi}{\\partial \\theta^2}) $ <br/>"
   ]
  },
  {
   "cell_type": "markdown",
   "metadata": {},
   "source": [
    "### Section 4.6: Maximum Shearing Stress Theory\n",
    "\n",
    "$ \\sigma_{yp} = \\tau_{yp} = |\\sigma_1 - \\sigma_3| $ <br/>\n",
    "$ \\quad \\quad \\quad = |\\sigma_1 - \\sigma_2| $ [if plane stress and $\\sigma_3 = 0$] <br/>\n",
    "\n",
    "To calculate a safety factor, n: <br/>\n",
    "$ \\frac{\\sigma_1}{\\sigma_{yp}} - \\frac{\\sigma_2}{\\sigma_{yp}} = \\frac{1}{n} $ <br/>\n",
    "\n",
    "Under certain conditions, the following formulas are applicable: <br/>\n",
    "$ \\frac{\\sigma_{yp}}{n} = \\sqrt{\\sigma_x^2+4\\tau_{xy}^2} $, or <br/>\n",
    "$ \\frac{\\sigma_{yp}}{n} = \\frac{32}{\\pi d^3}\\sqrt{M^2+T^2} $ <br/>"
   ]
  },
  {
   "cell_type": "markdown",
   "metadata": {},
   "source": [
    "### Section 4.7: Maximum Distortion Energy Theory\n",
    "\n",
    "Using directional stresses: <br/>\n",
    "$ (\\sigma_x - \\sigma_y)^2 + (\\sigma_y - \\sigma_z)^2 + (\\sigma_z - \\sigma_x)^2 + 6(\\tau_{xy}^2 + \\tau_{yz}^2 + \\tau_{xz}^2) = 2\\sigma_{yp}^2 $ <br/>\n",
    "\n",
    "Using principal stresses: <br/>\n",
    "$ (\\sigma_1 - \\sigma_2)^2 + (\\sigma_2 - \\sigma_3)^2 + (\\sigma_3 - \\sigma_1)^2 = 2\\sigma_{yp}^2 $ <br/>\n",
    "\n",
    "Using principal stresses in plane stress to determine a safety factor, n: <br/>\n",
    "$ (\\frac{\\sigma_1}{\\sigma_{yp}})^2 + (\\frac{\\sigma_1}{\\sigma_{yp}})(\\frac{\\sigma_2}{\\sigma_{yp}}) + (\\frac{\\sigma_2}{\\sigma_{yp}})^2 = 1/n $ <br/>\n",
    "\n",
    "Under certain conditions, the following formulas are applicable: <br/>\n",
    "$ \\frac{\\sigma_{yp}}{n} = \\sqrt{\\sigma_x^2+3\\tau_{xy}^2} $, or <br/>\n",
    "$ \\frac{\\sigma_{yp}}{n} = \\frac{16}{\\pi d^3}\\sqrt{4M^2+3T^2} $ <br/>"
   ]
  },
  {
   "cell_type": "markdown",
   "metadata": {},
   "source": [
    "### Section 4.8: Octahedral Shear Stress\n",
    "\n",
    "$ \\tau_{oct} = 0.47\\sigma_{yp}$, where $\\tau_{oct}$ is given by: $ \\tau_{oct} = \\frac{1}{3}\\sqrt{(\\sigma_x - \\sigma_y)^2 + (\\sigma_y - \\sigma_z)^2 + (\\sigma_z - \\sigma_x)^2 + 6(\\tau_{xy}^2 + \\tau_{yz}^2 + \\tau_{xz}^2)} $"
   ]
  },
  {
   "cell_type": "markdown",
   "metadata": {},
   "source": [
    "### Section 4.9: Comparison of the Yielding Theories\n",
    "\n",
    "* Maximum shearing stress theory: $\\tau_{yp} = 0.50\\sigma_{yp}$\n",
    "* Maximum energy of distortion and octahedral shearing stress theory: $\\tau_{yp} = 0.577\\sigma_{yp}$"
   ]
  },
  {
   "cell_type": "markdown",
   "metadata": {},
   "source": [
    "### Section 4.10: Maximum Principal Stress Theory\n",
    "\n",
    "To find the safety factor, n: <br/>\n",
    "$ \\frac{\\sigma_1}{\\sigma_u} = \\frac{1}{n} $ or $ \\frac{\\sigma_2}{\\sigma_u} = \\frac{1}{n} $\n",
    "\n",
    "<b>Note:</b> Maximum principal stress theory does not account for compressive stress ${\\sigma_u'}$"
   ]
  },
  {
   "cell_type": "markdown",
   "metadata": {},
   "source": [
    "### Section 4.12: Coulomb-Mohr Theory\n",
    "\n",
    "To find the safety factor, n: <br/>\n",
    "$ \\frac{\\sigma_1}{\\sigma_u} - \\frac{\\sigma_2}{\\sigma_u'} = \\frac{1}{n} $"
   ]
  },
  {
   "cell_type": "markdown",
   "metadata": {},
   "source": [
    "### Section 4.13: Fracture Mechanics\n",
    "\n",
    "Stress-intensity factor for plates and beams: <br/>\n",
    "$ K = \\lambda\\sigma\\sqrt{\\pi a} $ (see Table 4.2 on PDF page 211 for $\\lambda$ factors) <br/>"
   ]
  },
  {
   "cell_type": "markdown",
   "metadata": {},
   "source": [
    "### Section 4.14: Fracture Toughness\n",
    "\n",
    "Safety factor, n: <br/>\n",
    "$ n = \\frac{K_c}{\\lambda\\sigma\\sqrt{\\pi a}} $, where $ K_c = nK $ (see Table 4.3 on PDF page 212 for values of $K_c$) <br/>\n",
    "\n",
    "<b>Note:</b> if there are multiple loads (e.g. bending and axial), add them with their respective $\\lambda$ values. For example: <br/>\n",
    "$$\\lambda\\sigma = \\sum{\\lambda_n\\sigma_n} = \\lambda_a\\frac{P}{A} + \\lambda_b\\frac{M}{wt^2} + ... $$ <br/>\n",
    "\n",
    "<b>Note:</b> nominal stress refers to the stress over the cross-sectional area without a fracture."
   ]
  },
  {
   "cell_type": "markdown",
   "metadata": {},
   "source": [
    "### Section 4.15: Failure Criteria for Metal Fatigue\n",
    "\n",
    "Mean ($\\sigma_m$) and alternating ($\\sigma_a$) stresses: <br/>\n",
    "$ \\sigma_m = \\frac{1}{2}(\\sigma_{max} + \\sigma_{min}) $ <br/>\n",
    "$ \\sigma_a = \\frac{1}{2}(\\sigma_{max} - \\sigma_{min}) $ <br/>\n",
    "\n",
    "Failure criteria for fatigue: <br/>\n",
    "* Modified Goodman: $ \\frac{\\sigma_a}{\\sigma_{cr}} + \\frac{\\sigma_m}{\\sigma_{u}} = \\frac{1}{n} $ ($\\sigma_{cr}$ is fatigue strength for stress reversal at N cycles)\n",
    "* Soderberg: $ \\frac{\\sigma_a}{\\sigma_{cr}} + \\frac{\\sigma_m}{\\sigma_{yp}} = \\frac{1}{n} $\n",
    "* Gerber: $ \\frac{\\sigma_a}{\\sigma_{cr}} + (\\frac{\\sigma_m}{\\sigma_{u}})^2 = \\frac{1}{n} $\n",
    "* SAE: $ \\frac{\\sigma_a}{\\sigma_{cr}} + \\frac{\\sigma_m}{\\sigma_{f}} = \\frac{1}{n} $ ($\\sigma_{f}$ is the fracture strength)"
   ]
  },
  {
   "cell_type": "markdown",
   "metadata": {},
   "source": [
    "### Section 5.2: Pure Bending of Beams of Symmetrical Cross-Section\n",
    "\n",
    "For straight beams: <br/>\n",
    "$ \\sigma_x = \\frac{-M_z y}{I_z} $ <br/>\n",
    "$ \\epsilon_x = \\frac{-M_z y}{EI_z} $ <br/>\n",
    "$ \\epsilon_y = \\epsilon_z = \\nu \\frac{-M_z y}{EI_z} $ <br/>\n",
    "$ \\gamma_{xy} = \\gamma_{yz} = \\gamma_{xz} = 0 $ <br/>"
   ]
  },
  {
   "cell_type": "markdown",
   "metadata": {},
   "source": [
    "### Section 5.3: Pure Bending of Beams of Asymmetrical Cross-Section)\n",
    "\n",
    "Product of inertias: <br/>\n",
    "$ I_{mn} = I_mI_n $, where $m$ and $n$ are any axis. For example, $ I_{yz} = I_yI_z $. <br/>\n",
    "\n",
    "Generalized flexure formula: <br/>\n",
    "$ \\sigma_x = \\frac{(M_yI_z + M_zI_{yz})z - (M_yI_{yz} + M_zI_y)y}{I_yI_z - I_{yz}^2} $\n",
    "\n",
    "Angle between neutral and z axes (positive when clockwise): <br/>\n",
    "$ tan(\\phi) = \\frac{M_yI_z + M_zI_{yz}}{M_yI_{yz} + M_zI_y} $\n",
    "\n",
    "Principal moments of inertia: <br/>\n",
    "$ I_{1, 2} = \\frac{I_x + I_y}{2} \\pm \\sqrt{(\\frac{I_x-I_y}{2})^2 + I_{xy}^2}$\n",
    "\n",
    "Orientation of principal inertia axes: <br/>\n",
    "$ tan(2\\theta_p) = -\\frac{2I_{yz}}{I_y-I_z} $ <br/>"
   ]
  },
  {
   "cell_type": "markdown",
   "metadata": {},
   "source": [
    "### Section 5.4: Bending of a Cantilever of Narrow Section\n",
    "\n",
    "Stress distribution: <br/>\n",
    "$ \\sigma_x = -(\\frac{Px}{I})y $ <br/>\n",
    "$ \\sigma_y = 0 $ <br/>\n",
    "$ \\tau_{xy} = -\\frac{P}{2I}(h^2-y^2) $ <br/>\n",
    "\n",
    "Displacement field: <br/>\n",
    "$ u = \\frac{P}{2EI}(L^2-x^2)y + \\frac{(2+\\nu)Py^3}{6EI} $ <br/>\n",
    "$ u = \\frac{P}{EI}[\\frac{x^3}{6} + \\frac{L^3}{3} + \\frac{x}{2}(\\nu y^2-L^2) + h^2(1+\\nu)(L-x)] $ <br/>\n"
   ]
  },
  {
   "cell_type": "markdown",
   "metadata": {},
   "source": [
    "### Section 5.5: Bending of a Simply Supported Narrow Beam\n",
    "\n",
    "Stress distribution: <br/>\n",
    "$ \\sigma_x = \\frac{py}{2I}(L^2-x^2) + \\frac{py}{I}(\\frac{y^2}{3}-\\frac{h^2}{5}) $ <br/>\n",
    "$ \\sigma_y = \\frac{-p}{2I}(\\frac{y^3}{3}-h^2y+\\frac{2h^3}{3}) $ <br/>\n",
    "$ \\tau_{xy} = \\frac{-px}{2I}(h^2-y^2) $"
   ]
  },
  {
   "cell_type": "markdown",
   "metadata": {},
   "source": [
    "### Section 5.6: Elementary Theory of Bending\n",
    "\n",
    "Key equations: <br/>\n",
    "$ -w(x) = \\frac{dV}{dx} = \\frac{d^2M}{dx^2} = EI\\frac{d^4y}{dx^4} $ <br/>\n",
    "$ V(x) = \\frac{dM}{dx} $ <br/>\n",
    "$ M(x) = EI\\frac{1}{\\rho} = EI\\frac{d^2y}{dx^2} $ <br/>"
   ]
  },
  {
   "cell_type": "markdown",
   "metadata": {},
   "source": [
    "### Section 5.7: Normal and Shear Stresses\n",
    "\n",
    "Normal stress: <br/>\n",
    "$ \\sigma_x = -\\frac{My}{I} $ <br/>\n",
    "\n",
    "Shear stress in a section: <br/>\n",
    "$ \\tau_{xy} = \\frac{V}{Ib}A^*\\bar{y} $, where $A^*$ is the the area of the section and $\\bar{y}$ is the distance from the neutral axis to the centroid of $A^*$<br/>\n",
    "\n",
    "Maximum shear stress for some typical beam cross-sections (assume transverse load, $V$: <br/>\n",
    "* Rectangle: $ \\tau_{max} = \\frac{3V}{2A} $\n",
    "* Circle: $ \\tau_{max} = \\frac{4V}{3A} $\n",
    "* Hollow circle: $ \\tau_{max} = \\frac{2V}{A} $\n",
    "* Triangle: $ \\tau_{max} = \\frac{3V}{2A} $\n",
    "* Diamond: $ \\tau_{max} = \\frac{9V}{8A} $"
   ]
  },
  {
   "cell_type": "markdown",
   "metadata": {},
   "source": [
    "### Section 5.9: Composite Beams\n",
    "\n",
    "Modular ratio: <br/>\n",
    "$ n = \\frac{E_2}{E_1} $ <br/>\n",
    "\n",
    "The modular ratio can be used to scale stresses. For example: <br/>\n",
    "* Aluminum, with $E = E_1$, beam section in flexure: $ \\sigma_{aluminum} = \\frac{Mc}{I} $ <br/>\n",
    "* Wooden, with $E = E_2$, beam section in flexure: $ \\sigma_{wood} = n\\frac{Mc}{I} $ <br/>"
   ]
  },
  {
   "cell_type": "markdown",
   "metadata": {},
   "source": [
    "### Section 5.10: Shear Center\n",
    "\n",
    "Shear center, $e$: <br/>\n",
    "$ e_x = \\frac{M_x}{V_y} $ <br/>\n",
    "$ e_y = \\frac{M_x}{V_z} $ <br/>\n",
    "\n",
    "<b>Note:</b> \n",
    "* The shear center denotes the point on the cross-sectional plane where the transverse shear stress resultant goes through.\n",
    "* <b>But why should I care?</b> If a load passes through the shear center, then pure bending occurs. Otherwise, twisting and bending occurs. Makes life easier to analyze through the shear center."
   ]
  },
  {
   "cell_type": "markdown",
   "metadata": {},
   "source": [
    "### Section 5.12: Energy Method for Deflections\n",
    "\n",
    "This method is used to find deflections, typically in linearly elastic beams.\n",
    "\n",
    "The strain energy $U$ is a function of bending strain energy $U_b$ and shearing strain energy $U_s$: <br/>\n",
    "$ U = U_b + U_s $ <br/>\n",
    "$ \\quad = \\frac{P^2L^3}{6EI} + \\frac{3P^2L}{5AG} $ <br/>\n",
    "\n",
    "The deflection at a point $x$ in a beam can be found by setting $L$ to $x$, and taking the derivative with respect to $P$: <br/>\n",
    "$ \\delta = \\frac{\\partial U}{\\partial P} $ <br/>\n",
    "$ \\quad = \\frac{Px^3}{3EI} + \\frac{6Px}{5AG} $ <br/>"
   ]
  },
  {
   "cell_type": "markdown",
   "metadata": {},
   "source": [
    "### Section 5.13: Elasticity Theory (Exact Solutions)\n",
    "\n",
    "Equilibrium equation: <br/>\n",
    "$ \\frac{d\\sigma}{dr} + \\frac{\\sigma_r - \\sigma_\\theta}{r} = 0 $ <br/>\n",
    "\n",
    "Compatibility equation: <br/>\n",
    "$ \\frac{d^2(\\sigma_r+\\sigma_\\theta)}{dr^2} + \\frac{1}{r}\\frac{d(\\sigma_r + \\sigma_\\theta)}{dr} = 0 $ <br/>\n",
    "\n",
    "For pure bending of a curved beam of rectangular cross-section: <br/>\n",
    "$ \\sigma_r = \\frac{4M}{tb^2N}[(1-\\frac{a^2}{b^2})ln(\\frac{r}{a}) - (1-\\frac{a^2}{r^2})ln(\\frac{b}{a})] $ <br/>\n",
    "$ \\sigma_\\theta = \\frac{4M}{tb^2N}[(1-\\frac{a^2}{b^2})(1+ln(\\frac{r}{a})) - (1+\\frac{a^2}{r^2})ln(\\frac{b}{a})] $ <br/>"
   ]
  },
  {
   "cell_type": "markdown",
   "metadata": {},
   "source": [
    "### Section 5.14: Curved Beam Formula\n",
    "\n",
    "Winkler approach: <br/>\n",
    "$ \\sigma_\\theta = -\\frac{My}{Ae(R-y)} $, where $e = \\bar{r} - R$ (distance between the centroid and neutral axis) and $y = R - r$ <br/>\n",
    "\n",
    "$R$ for different cross-sectional shapes: <br/>\n",
    "* Rectangle: $R = \\frac{h}{ln\\frac{r_0}{r_i}}$\n",
    "* Circle: $R = \\frac{A}{2\\pi(\\bar{r} + \\sqrt{\\bar{r}^2 - c^2})}$\n",
    "* Ellipse: $R = \\frac{A}{\\frac{2\\pi b}{a}(\\bar{r} - \\sqrt{\\bar{r}^2 - a^2})}$\n",
    "* Triangle: $R = \\frac{A}{\\frac{br_o}{h}(ln\\frac{r_o}{r_i})-b}$\n",
    "* Trapezoid: $R = \\frac{A}{\\frac{1}{h}[(b_1r_o-b_2r_i)ln\\frac{r_o}{r_i}-h(b_1-b_2)]}$"
   ]
  }
 ],
 "metadata": {
  "kernelspec": {
   "display_name": "Python 3",
   "language": "python",
   "name": "python3"
  },
  "language_info": {
   "codemirror_mode": {
    "name": "ipython",
    "version": 3
   },
   "file_extension": ".py",
   "mimetype": "text/x-python",
   "name": "python",
   "nbconvert_exporter": "python",
   "pygments_lexer": "ipython3",
   "version": "3.8.3"
  }
 },
 "nbformat": 4,
 "nbformat_minor": 4
}
