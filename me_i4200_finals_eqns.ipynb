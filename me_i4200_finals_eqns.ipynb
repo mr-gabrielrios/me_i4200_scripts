{
 "cells": [
  {
   "cell_type": "markdown",
   "metadata": {},
   "source": [
    "## Formula Sheet for ME 54100/I4200 Final Exam"
   ]
  },
  {
   "cell_type": "markdown",
   "metadata": {},
   "source": [
    "### Sections 3.3/3.4: Plane Strain and Stress - 2D\n",
    "\n",
    "Strain expressions: <br/>\n",
    "$\\epsilon_x = \\frac{\\partial u}{\\partial x} $ <br/>\n",
    "$ \\quad = \\frac{1-\\nu^2}{E}(\\sigma_x-\\frac{\\nu}{1-\\nu}\\sigma_y) $ <br/>\n",
    "$ \\quad = \\frac{1}{E}(\\sigma_x-\\nu\\sigma_y) $ <br/>\n",
    "\n",
    "$\\epsilon_y = \\frac{\\partial v}{\\partial y} $ <br/>\n",
    "$ \\quad = \\frac{1-\\nu^2}{E}(\\sigma_y-\\frac{\\nu}{1-\\nu}\\sigma_x) $ <br/>\n",
    "$ \\quad = \\frac{1}{E}(\\sigma_y-\\nu\\sigma_x)$ <br/>\n",
    "\n",
    "$\\epsilon_z = -\\frac{\\nu}{E}(\\sigma_x+\\sigma_y)$ <br/>\n",
    "\n",
    "$\\gamma_{xy} = \\frac{\\partial u}{\\partial y}+\\frac{\\partial v}{\\partial y} $ <br/>\n",
    "$ \\quad = \\frac{\\tau_{xy}}{G}$ <br/>\n",
    "\n",
    "Stress expressions: <br/>\n",
    "$\\sigma_x = 2G\\epsilon_x + \\lambda (\\epsilon_x + \\epsilon_y)$ <br/>\n",
    "$\\sigma_y = 2G\\epsilon_y + \\lambda (\\epsilon_x + \\epsilon_y)$ <br/>\n",
    "$\\tau_{xy} = G\\gamma_{xy}$ <br/>\n",
    "\n",
    "Compatibility equations (in terms of stress): <br/>\n",
    "$\\frac{\\partial\\sigma_x}{\\partial x} + \\frac{\\partial\\tau_{xy}}{\\partial y} + F_x = 0$ <br/>\n",
    "$\\frac{\\partial\\sigma_y}{\\partial y} + \\frac{\\partial\\tau_{xy}}{\\partial x} + F_y = 0$ <br/>\n",
    "$(\\frac{\\partial^2}{\\partial x^2} + \\frac{\\partial^2}{\\partial y^2})(\\sigma_x + \\sigma_y) = \\frac{-1}{1-\\nu}(\\frac{\\partial F_x}{\\partial x} + \\frac{\\partial F_y}{\\partial y}) $ <br/>"
   ]
  },
  {
   "cell_type": "markdown",
   "metadata": {},
   "source": [
    "### Section 3.6: Airy's Stress Function\n",
    "\n",
    "$ \\nabla^4\\Phi = 0 = \\frac{\\partial^4\\Phi}{\\partial x^4} + 2\\frac{\\partial^4\\Phi}{\\partial x^2 \\partial y^2} + \\frac{\\partial^4\\Phi}{\\partial y^4} $ <br/>\n",
    "\n",
    "Stress expressions: <br/>\n",
    "$ \\sigma_x = \\frac{\\partial^2\\Phi}{\\partial y^2} $ <br/>\n",
    "$ \\sigma_y = \\frac{\\partial^2\\Phi}{\\partial x^2} $ <br/>\n",
    "$ \\tau_{xy} = -\\frac{\\partial^2\\Phi}{\\partial x \\partial y} $ <br/>"
   ]
  },
  {
   "cell_type": "markdown",
   "metadata": {},
   "source": [
    "### Section 3.9: Basic Relations in Polar Coordinates\n",
    "\n",
    "Strain expressions: <br/>\n",
    "$ \\epsilon_r = \\frac{\\partial u}{\\partial r} $ <br/>\n",
    "$ \\quad = \\frac{1}{E}(\\sigma_r - \\nu\\sigma_\\theta) $ (for plane stress problems) <br/>\n",
    "$ \\quad = \\frac{1 + \\nu}{E}[(1-\\nu)\\sigma_r - \\nu\\sigma_\\theta] $ (for plane strain problems) <br/>\n",
    "\n",
    "$ \\epsilon_\\theta = \\frac{1}{r}\\frac{\\partial v}{\\partial \\theta} + \\frac{u}{r} $ <br/>\n",
    "$ \\quad = \\frac{1}{E}(\\sigma_\\theta - \\nu\\sigma_r) $ (for plane stress problems) <br/>\n",
    "$ \\quad = \\frac{1 + \\nu}{E}[(1-\\nu)\\sigma_\\theta - \\nu\\sigma_r] $ (for plane strain problems) <br/>\n",
    "\n",
    "$ \\gamma_{r\\theta} = \\frac{1}{G}\\tau_{r\\theta} $ <br/>\n",
    "$ \\quad = \\frac{\\partial v}{\\partial r} + \\frac{1}{r}\\frac{\\partial u}{\\partial \\theta} - \\frac{v}{r} $ <br/>\n",
    "\n",
    "Stress expressions: <br/>\n",
    "$ \\sigma_r = \\frac{1}{r}\\frac{\\partial \\phi}{\\partial r} + \\frac{1}{r^2}\\frac{\\partial^2 \\phi}{\\partial \\theta^2} $ <br/>\n",
    "$ \\sigma_\\theta = \\frac{\\partial^2 \\phi}{\\partial r^2} $ <br/>\n",
    "$ \\tau_{r\\theta} = -\\frac{\\partial}{\\partial r}(\\frac{1}{r}\\frac{\\partial \\phi}{\\partial \\theta}) $ <br/>\n",
    "\n",
    "Equations of equilibrium: <br/>\n",
    "$ \\frac{\\partial \\sigma_r}{\\partial r} + \\frac{1}{r}\\frac{\\partial \\tau_{r\\theta}}{\\partial \\theta} + \\frac{\\sigma_r-\\sigma_\\theta}{r} + F_r = 0 $ <br/>\n",
    "$ \\frac{1}{r}\\frac{\\partial \\sigma_\\theta}{\\partial \\theta} + \\frac{\\partial \\tau_{r\\theta}}{\\partial r} + \\frac{2\\tau_{r\\theta}}{r} + F_\\theta = 0 $ <br/>\n",
    "\n",
    "Equation of compatibility: <br/>\n",
    "$ \\nabla^4\\Phi = 0 = (\\frac{\\partial^2}{\\partial r^2} + \\frac{1}{r}\\frac{\\partial}{\\partial r} + \\frac{1}{r^2}\\frac{\\partial^2}{\\partial \\theta^2})(\\nabla^2 \\Phi) $ <br/>\n",
    "$ \\quad\\quad = (\\frac{\\partial^2}{\\partial r^2} + \\frac{1}{r}\\frac{\\partial}{\\partial r} + \\frac{1}{r^2}\\frac{\\partial^2}{\\partial \\theta^2})(\\frac{\\partial^2\\Phi}{\\partial r^2} + \\frac{1}{r}\\frac{\\partial\\Phi}{\\partial r} + \\frac{1}{r^2} \\frac{\\partial^2 \\Phi}{\\partial \\theta^2}) $ <br/>"
   ]
  },
  {
   "cell_type": "markdown",
   "metadata": {},
   "source": [
    "### Section 4.6: Maximum Shearing Stress Theory\n",
    "\n",
    "$ \\sigma_{yp} = \\tau_{yp} = |\\sigma_1 - \\sigma_3| $ <br/>\n",
    "$ \\quad \\quad \\quad = |\\sigma_1 - \\sigma_2| $ [if plane stress and $\\sigma_3 = 0$] <br/>\n",
    "\n",
    "To calculate a safety factor, n: <br/>\n",
    "$ \\frac{\\sigma_1}{\\sigma_{yp}} - \\frac{\\sigma_2}{\\sigma_{yp}} = \\frac{1}{n} $ <br/>\n",
    "\n",
    "Under certain conditions, the following formulas are applicable: <br/>\n",
    "$ \\frac{\\sigma_{yp}}{n} = \\sqrt{\\sigma_x^2+4\\tau_{xy}^2} $, or <br/>\n",
    "$ \\frac{\\sigma_{yp}}{n} = \\frac{32}{\\pi d^3}\\sqrt{M^2+T^2} $ <br/>"
   ]
  },
  {
   "cell_type": "markdown",
   "metadata": {},
   "source": [
    "### Section 4.7: Maximum Distortion Energy Theory\n",
    "\n",
    "Using directional stresses: <br/>\n",
    "$ (\\sigma_x - \\sigma_y)^2 + (\\sigma_y - \\sigma_z)^2 + (\\sigma_z - \\sigma_x)^2 + 6(\\tau_{xy}^2 + \\tau_{yz}^2 + \\tau_{xz}^2) = 2\\sigma_{yp}^2 $ <br/>\n",
    "\n",
    "Using principal stresses: <br/>\n",
    "$ (\\sigma_1 - \\sigma_2)^2 + (\\sigma_2 - \\sigma_3)^2 + (\\sigma_3 - \\sigma_1)^2 = 2\\sigma_{yp}^2 $ <br/>\n",
    "\n",
    "Using principal stresses in plane stress to determine a safety factor, n: <br/>\n",
    "$ (\\frac{\\sigma_1}{\\sigma_{yp}})^2 + (\\frac{\\sigma_1}{\\sigma_{yp}})(\\frac{\\sigma_2}{\\sigma_{yp}}) + (\\frac{\\sigma_2}{\\sigma_{yp}})^2 = 1/n $ <br/>\n",
    "\n",
    "Under certain conditions, the following formulas are applicable: <br/>\n",
    "$ \\frac{\\sigma_{yp}}{n} = \\sqrt{\\sigma_x^2+3\\tau_{xy}^2} $, or <br/>\n",
    "$ \\frac{\\sigma_{yp}}{n} = \\frac{16}{\\pi d^3}\\sqrt{4M^2+3T^2} $ <br/>"
   ]
  },
  {
   "cell_type": "markdown",
   "metadata": {},
   "source": [
    "### Section 4.8: Octahedral Shear Stress\n",
    "\n",
    "$ \\tau_{oct} = 0.47\\sigma_{yp}$, where $\\tau_{oct}$ is given by: $ \\tau_{oct} = \\frac{1}{3}\\sqrt{(\\sigma_x - \\sigma_y)^2 + (\\sigma_y - \\sigma_z)^2 + (\\sigma_z - \\sigma_x)^2 + 6(\\tau_{xy}^2 + \\tau_{yz}^2 + \\tau_{xz}^2)} $"
   ]
  },
  {
   "cell_type": "markdown",
   "metadata": {},
   "source": [
    "### Section 4.9: Comparison of the Yielding Theories\n",
    "\n",
    "* Maximum shearing stress theory: $\\tau_{yp} = 0.50\\sigma_{yp}$\n",
    "* Maximum energy of distortion and octahedral shearing stress theory: $\\tau_{yp} = 0.577\\sigma_{yp}$"
   ]
  },
  {
   "cell_type": "markdown",
   "metadata": {},
   "source": [
    "### Section 4.10: Maximum Principal Stress Theory\n",
    "\n",
    "To find the safety factor, n: <br/>\n",
    "$ \\frac{\\sigma_1}{\\sigma_u} = \\frac{1}{n} $ or $ \\frac{\\sigma_2}{\\sigma_u} = \\frac{1}{n} $\n",
    "\n",
    "<b>Note:</b> Maximum principal stress theory does not account for compressive stress ${\\sigma_u'}$"
   ]
  },
  {
   "cell_type": "markdown",
   "metadata": {},
   "source": [
    "### Section 4.12: Coulomb-Mohr Theory\n",
    "\n",
    "To find the safety factor, n: <br/>\n",
    "$ \\frac{\\sigma_1}{\\sigma_u} - \\frac{\\sigma_2}{\\sigma_u'} = \\frac{1}{n} $"
   ]
  },
  {
   "cell_type": "markdown",
   "metadata": {},
   "source": [
    "### Section 4.13: Fracture Mechanics\n",
    "\n",
    "Stress-intensity factor for plates and beams: <br/>\n",
    "$ K = \\lambda\\sigma\\sqrt{\\pi a} $ (see Table 4.2 on PDF page 211 for $\\lambda$ factors) <br/>"
   ]
  },
  {
   "cell_type": "markdown",
   "metadata": {},
   "source": [
    "### Section 4.14: Fracture Toughness\n",
    "\n",
    "Safety factor, n: <br/>\n",
    "$ n = \\frac{K_c}{\\lambda\\sigma\\sqrt{\\pi a}} $, where $ K_c = nK $ (see Table 4.3 on PDF page 212 for values of $K_c$) <br/>"
   ]
  },
  {
   "cell_type": "markdown",
   "metadata": {},
   "source": [
    "### Section 4.15: Failure Criteria for Metal Fatigue\n",
    "\n",
    "Mean ($\\sigma_m$) and alternating ($\\sigma_a$) stresses: <br/>\n",
    "$ \\sigma_m = \\frac{1}{2}(\\sigma_{max} + \\sigma_{min}) $ <br/>\n",
    "$ \\sigma_a = \\frac{1}{2}(\\sigma_{max} - \\sigma_{min}) $ <br/>\n",
    "\n",
    "Failure criteria for fatigue: <br/>\n",
    "* Modified Goodman: $ \\frac{\\sigma_a}{\\sigma_{cr}} + \\frac{\\sigma_m}{\\sigma_{u}} = \\frac{1}{n} $ ($\\sigma_{cr}$ is fatigue strength for stress reversal at N cycles)\n",
    "* Soderberg: $ \\frac{\\sigma_a}{\\sigma_{cr}} + \\frac{\\sigma_m}{\\sigma_{yp}} = \\frac{1}{n} $\n",
    "* Gerber: $ \\frac{\\sigma_a}{\\sigma_{cr}} + (\\frac{\\sigma_m}{\\sigma_{u}})^2 = \\frac{1}{n} $\n",
    "* SAE: $ \\frac{\\sigma_a}{\\sigma_{cr}} + \\frac{\\sigma_m}{\\sigma_{f}} = \\frac{1}{n} $ ($\\sigma_{f}$ is the fracture strength)"
   ]
  }
 ],
 "metadata": {
  "kernelspec": {
   "display_name": "Python 3",
   "language": "python",
   "name": "python3"
  },
  "language_info": {
   "codemirror_mode": {
    "name": "ipython",
    "version": 3
   },
   "file_extension": ".py",
   "mimetype": "text/x-python",
   "name": "python",
   "nbconvert_exporter": "python",
   "pygments_lexer": "ipython3",
   "version": "3.8.3"
  }
 },
 "nbformat": 4,
 "nbformat_minor": 4
}
